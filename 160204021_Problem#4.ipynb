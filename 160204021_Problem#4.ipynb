{
  "nbformat": 4,
  "nbformat_minor": 0,
  "metadata": {
    "colab": {
      "name": "160204021_Problem#4.ipynb",
      "provenance": [],
      "collapsed_sections": []
    },
    "kernelspec": {
      "display_name": "Python 3",
      "language": "python",
      "name": "python3"
    },
    "language_info": {
      "codemirror_mode": {
        "name": "ipython",
        "version": 3
      },
      "file_extension": ".py",
      "mimetype": "text/x-python",
      "name": "python",
      "nbconvert_exporter": "python",
      "pygments_lexer": "ipython3",
      "version": "3.8.5"
    }
  },
  "cells": [
    {
      "cell_type": "markdown",
      "metadata": {
        "id": "x-tQ0hXo2af5"
      },
      "source": [
        "**For Accessing Drive Contents**\r\n",
        "\r\n",
        "\r\n",
        "\r\n",
        "\r\n"
      ]
    },
    {
      "cell_type": "code",
      "metadata": {
        "id": "nRA3-pfIazlS"
      },
      "source": [
        "from google.colab import drive\n",
        "\n",
        "drive.mount('/content/gdrive')"
      ],
      "execution_count": null,
      "outputs": []
    },
    {
      "cell_type": "markdown",
      "metadata": {
        "id": "yEsnY7Xz5t5X"
      },
      "source": [
        "#Ekush Dataset\r\n",
        "**Ekhus** is the largest dataset of handwritten Bangla characters for research on handwritten Bangla character recognition. The Ekush database contains handwritten Bengali digits (০ through ৯), letters and can provide a baseline for testing Bengali digit and letter recognition using the machine and deep learning architecture.\r\n",
        "\r\n",
        "\r\n",
        "<div align=\"center\">\r\n",
        "<img src=\"https://drive.google.com/uc?id=1CcAG-Et-fpvtVh7Kjv7ZU7Ih6HmwbzRT\" width=\"200\">\r\n",
        "<img src=\"https://drive.google.com/uc?id=1qPn7h0YyKLEC3GHwDJAs5jf8oNQLJnvF\" width=\"200\">\r\n",
        "<img src=\"https://drive.google.com/uc?id=1x5_DN8uzGFOVhqSK4OVsEwuWy3FBHZZU\" width=\"200\">\r\n",
        "</div>\r\n",
        "<div align=\"center\">\r\n",
        "<img src=\"https://drive.google.com/uc?id=1A9HcemWBWa7vHlfvmZYwO8uDXcaAGeGg\" width=\"200\">\r\n",
        "<img src=\"https://drive.google.com/uc?id=1PAJrQ4bQxxopv-UI_YcM81lxoE8dvCGK\" width=\"200\">\r\n",
        "<img src=\"https://drive.google.com/uc?id=1HDm1iy2FBQSHELXDFxx3TlBaqViGJ-Vn\" width=\"200\">\r\n",
        "<figcaption>figure 1: Ekush dataset Snapshot</figcaption>\r\n",
        "</div>\r\n",
        "\r\n",
        "</div>\r\n",
        "\r\n"
      ]
    },
    {
      "cell_type": "markdown",
      "metadata": {
        "id": "GSnKmGjTXqlT"
      },
      "source": [
        "**Importing Necessary Libaries**"
      ]
    },
    {
      "cell_type": "code",
      "metadata": {
        "id": "Bc8kX-CjazlT"
      },
      "source": [
        "import os\n",
        "from os import path\n",
        "import shutil\n",
        "import numpy as np\n",
        "import pandas as pd\n",
        "import torch\n",
        "import torch.nn as nn\n",
        "import torch.nn.functional as F\n",
        "import torch.optim as optim\n",
        "from torch.utils.data import Dataset\n",
        "from torch.utils.data.sampler import SubsetRandomSampler\n",
        "from torchvision import datasets, transforms, models\n",
        "import matplotlib\n",
        "import matplotlib.pyplot as plt\n",
        "from PIL import Image\n",
        "from torch.utils.data import Dataset\n",
        "from torch.utils.data.sampler import SubsetRandomSampler\n",
        "from torchvision import datasets, transforms, models"
      ],
      "execution_count": null,
      "outputs": []
    },
    {
      "cell_type": "markdown",
      "metadata": {
        "id": "xAxp5YFQU7B9"
      },
      "source": [
        "#**Pre Processing**\r\n",
        "\r\n",
        "---\r\n",
        "In the website ([https://shahariarrabby.github.io/ekush/#home](https://) ) I found two CSV files of the male and female dataset with the raw image data. As their task was to classify Bengali digits so there are ten labels. But my given task was to find that whether the written digit was written by a male or female. So I need to change the label of the CSV files. So there is two way I found out to solve the problem. One way is I just change the label column using pandas library as CSV file contains all pixel values. Another approach is to use the raw image and creative CSV with image Id and labeling of male or female. As I completed my Numtadb dataset assignment earlier with the raw image I decided to use the same formatting code and choose to work with the raw data of the Ekhush dataset. In their raw data folder male and female written digit were separated into different folders according to digit values. I merged and renamed those images for both males and females and put them into two folders. Then I reshaped those images into 200*200 dimensions as images were not in the same dimensions and created two new folders containing male and female.\r\n",
        "#Re-size code\r\n",
        "```\r\n",
        "from PIL import Image\r\n",
        "import glob\r\n",
        "import os\r\n",
        "\r\n",
        "# new folder path (may need to alter for Windows OS)\r\n",
        "# change path to your path\r\n",
        "path = 'C:/Users/Anas/Downloads/archive/female_digit'\r\n",
        "# create new folder\r\n",
        "if not os.path.exists(path):\r\n",
        "    os.makedirs(path)\r\n",
        "\r\n",
        "# loop over existing images and resize\r\n",
        "# change path to your path\r\n",
        "for filename in glob.glob('C:/Users/Anas/Downloads/archive/ female_digit200/*.png'):\r\n",
        "    img = Image.open(filename).resize((200,200))\r\n",
        "    # save resized images to new folder with existing filename\r\n",
        "    img.save('{}{}{}'.format(path,'/',os.path.split(filename)[1]))\r\n",
        "```\r\n",
        "Then I created 2 CSV files for male and female. I took the two-image folder and generate a two CSV file containing the image name and label.\r\n",
        "\r\n",
        "#CSV Creating From Raw Images\r\n",
        "```\r\n",
        "import os\r\n",
        "import pandas\r\n",
        "a=os.listdir('C:/Users/Anas/Downloads/raw_image/male_digit200/')\r\n",
        "print(a)\r\n",
        "for i in a:\r\n",
        "    print(i)\r\n",
        "l=[]\r\n",
        "for i in range(len(a)):\r\n",
        "    l.append(0)\r\n",
        "df = pandas.DataFrame(data={\"digit\": 0, \"filename\": a})\r\n",
        "df.to_csv(\"C:/Users/Anas/Downloads/raw_image/male_digit200.csv\", sep=',',index=False)\r\n",
        "```\r\n",
        "\r\n",
        "\r\n",
        "\r\n",
        "\r\n",
        "\r\n",
        "\r\n",
        "\r\n",
        "\r\n",
        "\r\n",
        "\r\n",
        "\r\n",
        "\r\n",
        "\r\n"
      ]
    },
    {
      "cell_type": "markdown",
      "metadata": {
        "id": "_pGgTtGdfNjQ"
      },
      "source": [
        "- **Input dimension:**\r\n",
        "  - Size of image: $28 \\times 28 = 784$\r\n",
        "\r\n",
        "- **Output dimension: 2**\r\n",
        "  - 0 1\r\n",
        "\r\n",
        "\r\n",
        "*  **Dataset Length : 30688**\r\n",
        "\r\n",
        "\r\n"
      ]
    },
    {
      "cell_type": "markdown",
      "metadata": {
        "id": "PnGn0j-a2IVe"
      },
      "source": [
        "**Google Drive directory for Files**"
      ]
    },
    {
      "cell_type": "code",
      "metadata": {
        "colab": {
          "base_uri": "https://localhost:8080/"
        },
        "id": "n0tmMgh55Z-f",
        "outputId": "9488a95d-9794-4278-e1c4-f381703d2dd8"
      },
      "source": [
        "PATH = '/content/gdrive/MyDrive/sc_data_as1/ekush/'\n",
        "os.listdir(PATH)"
      ],
      "execution_count": null,
      "outputs": [
        {
          "output_type": "execute_result",
          "data": {
            "text/plain": [
              "['dataset',\n",
              " 'ekush1.pkl',\n",
              " 'ekush2.pkl',\n",
              " 'ekush3.pkl',\n",
              " 'ekush4.pkl',\n",
              " 'ekush5.pkl',\n",
              " 'ekushna1.pkl',\n",
              " 'ekushna2.pkl',\n",
              " 'ekushna3.pkl',\n",
              " 'ekushna4.pkl',\n",
              " 'ekushna5.pkl',\n",
              " 'ekushx2.pkl',\n",
              " 'ekushx3.pkl',\n",
              " 'female',\n",
              " 'female.zip',\n",
              " 'femaleDigits.csv',\n",
              " 'female_digit100',\n",
              " 'female_digit100.csv',\n",
              " 'female_digit200',\n",
              " 'female_digit200.csv',\n",
              " 'female_digit200g',\n",
              " 'female_digit300',\n",
              " 'female_digit300.csv',\n",
              " 'female_digit50',\n",
              " 'female_digit50.csv',\n",
              " 'female_digit80',\n",
              " 'female_digit80.csv',\n",
              " 'female_digit_original',\n",
              " 'female_digit_original_sharp10',\n",
              " 'female_digit_original_sharp10_180',\n",
              " 'female_digit_original_sharp150',\n",
              " 'female_digit_original_sharp180',\n",
              " 'female_digit_original_sharp200',\n",
              " 'male',\n",
              " 'male.zip',\n",
              " 'maleDigits.csv',\n",
              " 'male_digit100',\n",
              " 'male_digit100.csv',\n",
              " 'male_digit200',\n",
              " 'male_digit200.csv',\n",
              " 'male_digit200g',\n",
              " 'male_digit300',\n",
              " 'male_digit300.csv',\n",
              " 'male_digit50',\n",
              " 'male_digit50.csv',\n",
              " 'male_digit80',\n",
              " 'male_digit80.csv',\n",
              " 'male_digit_original',\n",
              " 'male_digit_original_sharp10',\n",
              " 'male_digit_original_sharp10_180',\n",
              " 'male_digit_original_sharp150',\n",
              " 'male_digit_original_sharp200',\n",
              " 'sharp10',\n",
              " 'sharp101',\n",
              " 'train_n',\n",
              " 'train_n100',\n",
              " 'train_n150_sharp',\n",
              " 'train_n200',\n",
              " 'train_n200gf',\n",
              " 'train_n200gff',\n",
              " 'train_n200_sharp',\n",
              " 'train_n50',\n",
              " 'train_n80']"
            ]
          },
          "metadata": {
            "tags": []
          },
          "execution_count": 23
        }
      ]
    },
    {
      "cell_type": "markdown",
      "metadata": {
        "id": "R3BcZFil2rHG"
      },
      "source": [
        "**A function for reading data from CSV files**"
      ]
    },
    {
      "cell_type": "code",
      "metadata": {
        "id": "OOH9vwl15Z-g"
      },
      "source": [
        "def showRawTrainingSamples(csv_filename):\n",
        "  df = pd.read_csv(PATH + csv_filename)\n",
        "  print(csv_filename)\n",
        "  print(df.columns)\n",
        "  return df"
      ],
      "execution_count": null,
      "outputs": []
    },
    {
      "cell_type": "code",
      "metadata": {
        "colab": {
          "base_uri": "https://localhost:8080/"
        },
        "id": "hX3vEMxP5Z-g",
        "outputId": "1d28130f-830c-4d84-d1c7-d44eedac5636"
      },
      "source": [
        "a_csv = showRawTrainingSamples('male_digit200.csv')\n",
        "b_csv = showRawTrainingSamples('female_digit200.csv')"
      ],
      "execution_count": null,
      "outputs": [
        {
          "output_type": "stream",
          "text": [
            "male_digit200.csv\n",
            "Index(['digit', 'filename'], dtype='object')\n",
            "female_digit200.csv\n",
            "Index(['digit', 'filename'], dtype='object')\n"
          ],
          "name": "stdout"
        }
      ]
    },
    {
      "cell_type": "code",
      "metadata": {
        "id": "EihcLm085Z-g"
      },
      "source": [
        "def dropColumns(csv_file):\n",
        "  csv_file = csv_file[['filename', 'digit']]\n",
        "  print(csv_file)\n",
        "  print(csv_file.iloc[:2, :])   \n",
        "  print(\"=============================\")\n",
        "  return csv_file"
      ],
      "execution_count": null,
      "outputs": []
    },
    {
      "cell_type": "code",
      "metadata": {
        "colab": {
          "base_uri": "https://localhost:8080/"
        },
        "id": "Qk1Jf-tT5Z-h",
        "outputId": "ab091aeb-47d2-4618-fa71-0e1a74d952a3"
      },
      "source": [
        "a_csv = dropColumns(a_csv)\n",
        "b_csv = dropColumns(b_csv)"
      ],
      "execution_count": null,
      "outputs": [
        {
          "output_type": "stream",
          "text": [
            "             filename  digit\n",
            "0         male_a0.jpg      0\n",
            "1         male_a1.jpg      0\n",
            "2        male_a10.jpg      0\n",
            "3       male_a100.jpg      0\n",
            "4      male_a1000.jpg      0\n",
            "...               ...    ...\n",
            "15063   male_j995.jpg      0\n",
            "15064   male_j996.jpg      0\n",
            "15065   male_j997.jpg      0\n",
            "15066   male_j998.jpg      0\n",
            "15067   male_j999.jpg      0\n",
            "\n",
            "[15068 rows x 2 columns]\n",
            "      filename  digit\n",
            "0  male_a0.jpg      0\n",
            "1  male_a1.jpg      0\n",
            "=============================\n",
            "               filename  digit\n",
            "0         female_a0.jpg      1\n",
            "1         female_a1.jpg      1\n",
            "2        female_a10.jpg      1\n",
            "3       female_a100.jpg      1\n",
            "4      female_a1000.jpg      1\n",
            "...                 ...    ...\n",
            "15615   female_j995.jpg      1\n",
            "15616   female_j996.jpg      1\n",
            "15617   female_j997.jpg      1\n",
            "15618   female_j998.jpg      1\n",
            "15619   female_j999.jpg      1\n",
            "\n",
            "[15620 rows x 2 columns]\n",
            "        filename  digit\n",
            "0  female_a0.jpg      1\n",
            "1  female_a1.jpg      1\n",
            "=============================\n"
          ],
          "name": "stdout"
        }
      ]
    },
    {
      "cell_type": "markdown",
      "metadata": {
        "id": "f0OCx3jt2-A4"
      },
      "source": [
        "**Merging CSV files**"
      ]
    },
    {
      "cell_type": "code",
      "metadata": {
        "colab": {
          "base_uri": "https://localhost:8080/"
        },
        "id": "ePBB9awj5Z-h",
        "outputId": "a219f47b-8e75-4ad7-a27c-3fae0883cbf1"
      },
      "source": [
        "total_csv = [a_csv, b_csv]\n",
        "merged_csv = pd.concat(total_csv)\n",
        "print(len(merged_csv))"
      ],
      "execution_count": null,
      "outputs": [
        {
          "output_type": "stream",
          "text": [
            "30688\n"
          ],
          "name": "stdout"
        }
      ]
    },
    {
      "cell_type": "markdown",
      "metadata": {
        "id": "dR5_9rb23LdC"
      },
      "source": [
        "**Create a Path for merged Images**"
      ]
    },
    {
      "cell_type": "code",
      "metadata": {
        "id": "JAjQWgL-5Z-h"
      },
      "source": [
        "TRAIN_PATH = '/content/gdrive/MyDrive/sc_data_as1/ekush/train_n200'\n",
        "#os.mkdir(TRAIN_PATH)"
      ],
      "execution_count": null,
      "outputs": []
    },
    {
      "cell_type": "markdown",
      "metadata": {
        "id": "P78QiiQS3ak2"
      },
      "source": [
        "\r\n",
        "\r\n",
        "**Merging image Function**"
      ]
    },
    {
      "cell_type": "code",
      "metadata": {
        "id": "VJI7QzEp5Z-i"
      },
      "source": [
        "def processImages(folder_name):\n",
        "  src = PATH + folder_name + '/'\n",
        "  dir_folders = os.listdir(src)\n",
        "  for dir_name in dir_folders:\n",
        "    file_name = os.path.join(src, dir_name)\n",
        "    if os.path.isfile(file_name):\n",
        "      shutil.copy(file_name, TRAIN_PATH)"
      ],
      "execution_count": null,
      "outputs": []
    },
    {
      "cell_type": "markdown",
      "metadata": {
        "id": "jEhsib5N3hWS"
      },
      "source": [
        "**Calling merger function for images**"
      ]
    },
    {
      "cell_type": "code",
      "metadata": {
        "colab": {
          "base_uri": "https://localhost:8080/"
        },
        "id": "QFQN1i9I5Z-i",
        "outputId": "26b7ba0e-a590-443d-fd07-d5a2259dc30d"
      },
      "source": [
        "processImages('male_digit200')\n",
        "print('A Done')\n",
        "processImages('female_digit200')\n",
        "print('B Done')\n"
      ],
      "execution_count": null,
      "outputs": [
        {
          "output_type": "stream",
          "text": [
            "A Done\n",
            "B Done\n"
          ],
          "name": "stdout"
        }
      ]
    },
    {
      "cell_type": "markdown",
      "metadata": {
        "id": "GN0uwwEh37Ti"
      },
      "source": [
        "**Create a Custom Dataset Function**"
      ]
    },
    {
      "cell_type": "code",
      "metadata": {
        "id": "xSDLFIg05Z-i"
      },
      "source": [
        "class Dataset(Dataset):\n",
        "    def __init__(self, df, root, transform=None):\n",
        "        self.data = df\n",
        "        self.root = root\n",
        "        self.transform = transform\n",
        "    def __len__(self):\n",
        "        return len(self.data)\n",
        "    \n",
        "    def __getitem__(self, index):\n",
        "        item = self.data.iloc[index]\n",
        "        \n",
        "        path = self.root + \"/\" + item[0]\n",
        "        image = Image.open(path).convert('L')\n",
        "        label = item[1]\n",
        "        \n",
        "        if self.transform is not None:\n",
        "            image = self.transform(image)\n",
        "            \n",
        "        return image, label"
      ],
      "execution_count": null,
      "outputs": []
    },
    {
      "cell_type": "code",
      "metadata": {
        "id": "FDUSuFkM5Z-i"
      },
      "source": [
        "mean = [0.5,]\n",
        "std = [0.5, ]\n",
        "c=1\n",
        "\n",
        "train_transform = transforms.Compose([\n",
        "    #transforms.Grayscale(c),\n",
        "    transforms.Resize(28),\n",
        "    transforms.ToTensor(),\n",
        "    transforms.Normalize(mean, std)\n",
        "])\n",
        "\n",
        "test_transform = transforms.Compose([\n",
        "        #transforms.Grayscale(c),\n",
        "        transforms.Resize(28),\n",
        "        transforms.ToTensor(),\n",
        "        transforms.Normalize(mean, std)\n",
        "])\n",
        "\n",
        "train_data  = Dataset(merged_csv, TRAIN_PATH, train_transform)\n",
        "test_data = Dataset(merged_csv, TRAIN_PATH, test_transform)\n",
        "#print(train_data[0])\n",
        "#print(\"Trainig Samples: \",len(train_data))"
      ],
      "execution_count": null,
      "outputs": []
    },
    {
      "cell_type": "markdown",
      "metadata": {
        "id": "TkcO6kypWdrz"
      },
      "source": [
        "#Hyper Parameter\r\n",
        "\r\n",
        "\r\n",
        "*  **Epochs:**\r\n",
        "One Epoch is when an entire dataset is passed forward and backward through the neural network only once.\r\n",
        "*  **Batch Size:**\r\n",
        "Total number of training examples present in a single batch.\r\n",
        "\r\n",
        "*  **Iterations:** Iterations is the number of batches needed to complete one epoch.\r\n",
        "\r\n",
        "\r\n",
        "* **Learning Rate:** The amount that the weights are updated during training is referred to as the step size or the “learning rate.”\r\n",
        "\r\n",
        "\r\n",
        "\r\n",
        "\r\n",
        "\r\n",
        "\r\n",
        "\r\n",
        "\r\n",
        "\r\n"
      ]
    },
    {
      "cell_type": "markdown",
      "metadata": {
        "id": "2D3VRc3c4LXX"
      },
      "source": [
        "# **Hyper Parameter Tuning**\r\n",
        "\r\n",
        "\r\n",
        "\r\n"
      ]
    },
    {
      "cell_type": "markdown",
      "metadata": {
        "id": "flAK06JN4sem"
      },
      "source": [
        "##Case 01\r\n",
        " I took  **batch size**,**iteration** and **learning rate** in accordance of **400,6000,0.0009**.The length of the dataset was 30688. So,\r\n",
        "\r\n",
        "> $epoch$ $number = (6000*400)/30688 = 78 epoches$\r\n",
        "\r\n",
        "> For this Setting I used 1 layer Deep Neural Network Model. In this Layer, I used the SELU activation function. \r\n",
        "\r\n",
        "\r\n",
        "> In the this Layer I used 100 as hidden layer value.\r\n",
        "\r\n",
        "> After Implementing I found **61.86%** accuracy with this setting.\r\n",
        "\r\n",
        "\r\n",
        "\r\n",
        "\r\n",
        "           \r\n",
        "\r\n"
      ]
    },
    {
      "cell_type": "code",
      "metadata": {
        "id": "fZ971WP95Z-k"
      },
      "source": [
        "#setting hpt 1\n",
        "batch_size = 400\n",
        "num_iters = 6000\n",
        "input_dim = 28*28 # num_features = 784\n",
        "output_dim = 2\n",
        "num_hidden = 100\n",
        "\n",
        "\n",
        "learning_rate = 0.0009\n",
        "\n",
        "# Device\n",
        "device = torch.device(\"cuda:0\" if torch.cuda.is_available() else \"cpu\")\n",
        "#device = torch.device('cuda')"
      ],
      "execution_count": null,
      "outputs": []
    },
    {
      "cell_type": "markdown",
      "metadata": {
        "id": "VkYcDSK2cR7t"
      },
      "source": [
        "**Sending data to train and test loader**"
      ]
    },
    {
      "cell_type": "code",
      "metadata": {
        "id": "ryqOPNTCazlX"
      },
      "source": [
        "# split data 20% for testing\n",
        "test_size = 0.1\n",
        "train_data[0]\n",
        "# obtain training indices that will be used for validation\n",
        "num_train = len(train_data)\n",
        "\n",
        "# mix data\n",
        "# index of num of train\n",
        "indices = list(range(num_train))\n",
        "#print(indices)\n",
        "# random the index\n",
        "np.random.shuffle(indices)\n",
        "split = int(np.floor(test_size * num_train))\n",
        "#print(split)\n",
        "# divied into two part\n",
        "train_idx, test_idx = indices[split:], indices[:split]\n",
        "#print(train_idx)\n",
        "#print(test_idx)\n",
        "\n",
        "# define the sampler\n",
        "train_sampler = SubsetRandomSampler(train_idx)\n",
        "test_sampler = SubsetRandomSampler(test_idx)\n",
        "#print(train_sampler)\n",
        "#print(test_sampler)\n",
        "# prepare loaders\n",
        "train_loader = torch.utils.data.DataLoader(\n",
        "    train_data, batch_size=batch_size,\n",
        "    sampler=train_sampler)\n",
        "\n",
        "test_loader = torch.utils.data.DataLoader(\n",
        "    test_data, batch_size=batch_size,\n",
        "    sampler=test_sampler)\n",
        "\n",
        "#print(\"Train dataloader:{}\".format(len(train_loader)))\n",
        "#print(\"Test dataloader:{}\".format(len(test_loader)))"
      ],
      "execution_count": null,
      "outputs": []
    },
    {
      "cell_type": "code",
      "metadata": {
        "id": "uKnnUDPnazlX",
        "outputId": "8a095dc8-ddd7-4cc2-ba48-bf4f5d611faa"
      },
      "source": [
        "num_epochs = num_iters / (len(train_data) / batch_size)\n",
        "num_epochs = int(num_epochs)\n",
        "print(num_epochs)\n",
        "print(len(train_idx))\n",
        "print(len(test_idx))"
      ],
      "execution_count": null,
      "outputs": [
        {
          "output_type": "stream",
          "text": [
            "78\n",
            "27620\n",
            "3068\n"
          ],
          "name": "stdout"
        }
      ]
    },
    {
      "cell_type": "code",
      "metadata": {
        "id": "cfwtIJIMazlX"
      },
      "source": [
        "#hp1\n",
        "class DeepNeuralNetworkModel(nn.Module):\n",
        "    def __init__(self, input_size, num_classes, num_hidden):\n",
        "        super().__init__()\n",
        "        ### 1st hidden layer: 784 --> 100\n",
        "        self.linear_1 = nn.Linear(input_size, num_hidden)\n",
        "        ### Non-linearity in 1st hidden layer\n",
        "        self.relu_1 = nn.SELU()\n",
        "        ### Output layer: 100 --> 10\n",
        "        self.linear_out = nn.Linear(num_hidden, num_classes)\n",
        "\n",
        "    def forward(self, x):\n",
        "        ### 1st hidden layer\n",
        "        out  = self.linear_1(x)\n",
        "        ### Non-linearity in 1st hidden layer\n",
        "        out = self.relu_1(out)\n",
        "        # Linear layer (output)\n",
        "        probas  = self.linear_out(out)\n",
        "        return probas"
      ],
      "execution_count": null,
      "outputs": []
    },
    {
      "cell_type": "code",
      "metadata": {
        "id": "gfbqNCobazlY",
        "outputId": "7d207d94-91a5-4dba-bd0e-e729aef997ef"
      },
      "source": [
        "'''\n",
        "INSTANTIATE MODEL CLASS\n",
        "'''\n",
        "model = DeepNeuralNetworkModel(input_size=input_dim,\n",
        "                           num_classes=output_dim,\n",
        "                           num_hidden = num_hidden)\n",
        "\n",
        "# To enable GPU\n",
        "model.to(device)"
      ],
      "execution_count": null,
      "outputs": [
        {
          "output_type": "execute_result",
          "data": {
            "text/plain": [
              "DeepNeuralNetworkModel(\n",
              "  (linear_1): Linear(in_features=784, out_features=100, bias=True)\n",
              "  (relu_1): SELU()\n",
              "  (linear_out): Linear(in_features=100, out_features=2, bias=True)\n",
              ")"
            ]
          },
          "metadata": {
            "tags": []
          },
          "execution_count": 37
        }
      ]
    },
    {
      "cell_type": "markdown",
      "metadata": {
        "id": "HLVu7U8giICX"
      },
      "source": [
        "**For optimizer I used Adam**\r\n",
        "\r\n",
        "The Adam optimization algorithm is an extension to stochastic gradient descent that has recently seen broader adoption for deep learning applications in computer vision and natural language processing."
      ]
    },
    {
      "cell_type": "code",
      "metadata": {
        "id": "d7_1J2s3azlY",
        "outputId": "e7cf905b-6237-4657-fc98-adc9372590ac"
      },
      "source": [
        "# INSTANTIATE OPTIMIZER CLASS\n",
        "optimizer = torch.optim.Adam(model.parameters(), lr=learning_rate)\n",
        "train_data[18][0].numpy().shape"
      ],
      "execution_count": null,
      "outputs": [
        {
          "output_type": "execute_result",
          "data": {
            "text/plain": [
              "(1, 28, 28)"
            ]
          },
          "metadata": {
            "tags": []
          },
          "execution_count": 38
        }
      ]
    },
    {
      "cell_type": "code",
      "metadata": {
        "id": "Gp0Zqxe-azlY"
      },
      "source": [
        "criterion = nn.CrossEntropyLoss()"
      ],
      "execution_count": null,
      "outputs": []
    },
    {
      "cell_type": "code",
      "metadata": {
        "colab": {
          "base_uri": "https://localhost:8080/"
        },
        "id": "WwZyf74i5Z-o",
        "outputId": "4d27d219-a7e6-4679-dc8e-f9b4752578d5"
      },
      "source": [
        "#settng1\n",
        "iter = 0\n",
        "for epoch in range(num_epochs):\n",
        "    for i, (images, labels) in enumerate(train_loader):\n",
        "\n",
        "        images = images.view(-1, 28*28).to(device)\n",
        "        labels = labels.to(device)\n",
        "\n",
        "        # Clear gradients w.r.t. parameters\n",
        "        optimizer.zero_grad()\n",
        "\n",
        "        # Forward pass to get output/logits\n",
        "        outputs = model(images) \n",
        "\n",
        "        # Calculate Loss: softmax --> cross entropy loss\n",
        "        loss = criterion(outputs, labels)\n",
        "\n",
        "        # Getting gradients w.r.t. parameters\n",
        "        loss.backward()\n",
        "\n",
        "        # Updating parameters\n",
        "        optimizer.step()\n",
        "\n",
        "        iter += 1\n",
        "\n",
        "        if iter % 500 == 0:\n",
        "            # Calculate Accuracy         \n",
        "            correct = 0\n",
        "            total = 0\n",
        "            # Iterate through test dataset\n",
        "            for images, labels in test_loader:\n",
        "               \n",
        "                images = images.view(-1, 28*28).to(device)\n",
        "\n",
        "                # Forward pass only to get logits/output\n",
        "                outputs = model(images)\n",
        "\n",
        "                # Get predictions from the maximum value\n",
        "                _, predicted = torch.max(outputs, 1)\n",
        "\n",
        "                # Total number of labels\n",
        "                total += labels.size(0)\n",
        "\n",
        "\n",
        "                # Total correct predictions\n",
        "                if torch.cuda.is_available():\n",
        "                    correct += (predicted.cpu() == labels.cpu()).sum() \n",
        "                else:\n",
        "                    correct += (predicted == labels).sum()\n",
        "\n",
        "            accuracy = 100 * correct.item() / total\n",
        "\n",
        "            # Print Loss\n",
        "            print('Iteration: {}. Loss: {}. Accuracy: {}'.format(iter, loss.item(), accuracy))"
      ],
      "execution_count": null,
      "outputs": [
        {
          "output_type": "stream",
          "text": [
            "Iteration: 500. Loss: 0.6401473879814148. Accuracy: 59.84354628422425\n",
            "Iteration: 1000. Loss: 0.6004359722137451. Accuracy: 61.79921773142112\n",
            "Iteration: 1500. Loss: 0.5831989645957947. Accuracy: 61.016949152542374\n",
            "Iteration: 2000. Loss: 0.49522164463996887. Accuracy: 60.91916558018253\n",
            "Iteration: 2500. Loss: 0.4793347120285034. Accuracy: 60.98435462842242\n",
            "Iteration: 3000. Loss: 0.48127445578575134. Accuracy: 61.79921773142112\n",
            "Iteration: 3500. Loss: 0.38509687781333923. Accuracy: 59.0612777053455\n",
            "Iteration: 4000. Loss: 0.40119269490242004. Accuracy: 60.658409387222946\n",
            "Iteration: 4500. Loss: 0.3817042410373688. Accuracy: 58.40938722294654\n",
            "Iteration: 5000. Loss: 0.3138163983821869. Accuracy: 61.86440677966102\n"
          ],
          "name": "stdout"
        }
      ]
    },
    {
      "cell_type": "markdown",
      "metadata": {
        "id": "PuKdD3k0c25t"
      },
      "source": [
        "##Case 02\r\n",
        " I took  **batch size**,**iteration** and **learning rate** in accordance of **400,6000,0.0006**.The length of the dataset was 30688. So,\r\n",
        "\r\n",
        "> $epoch$ $number = (6000*400)/30688 = 78 epoches$\r\n",
        "\r\n",
        "> For this Setting I used 1 layer Deep Neural Network Model. In this Layer, I used the ReLU6 activation function. \r\n",
        "\r\n",
        "\r\n",
        "> In the this Layer I used 50 as hidden layer value.\r\n",
        "\r\n",
        "> After Implementing I found **61.04%** accuracy with this setting.\r\n",
        "\r\n",
        "\r\n",
        "\r\n",
        "\r\n",
        "           \r\n",
        "\r\n"
      ]
    },
    {
      "cell_type": "code",
      "metadata": {
        "id": "k6F1HJkM5Z-j"
      },
      "source": [
        "#setting hpt 2\n",
        "batch_size = 400\n",
        "num_iters = 6000\n",
        "input_dim = 28*28 # num_features = 784\n",
        "output_dim = 2\n",
        "num_hidden = 50\n",
        "learning_rate = 0.0006\n",
        "\n",
        "# Device\n",
        "device = torch.device(\"cuda:0\" if torch.cuda.is_available() else \"cpu\")\n",
        "#device = torch.device('cuda')"
      ],
      "execution_count": null,
      "outputs": []
    },
    {
      "cell_type": "markdown",
      "metadata": {
        "id": "Fs2HErPEWn_R"
      },
      "source": [
        "**Sending data to train and test loader**"
      ]
    },
    {
      "cell_type": "code",
      "metadata": {
        "id": "VBbMNimHazlZ"
      },
      "source": [
        "# split data 20% for testing\n",
        "test_size = 0.1\n",
        "train_data[0]\n",
        "# obtain training indices that will be used for validation\n",
        "num_train = len(train_data)\n",
        "\n",
        "# mix data\n",
        "# index of num of train\n",
        "indices = list(range(num_train))\n",
        "#print(indices)\n",
        "# random the index\n",
        "np.random.shuffle(indices)\n",
        "split = int(np.floor(test_size * num_train))\n",
        "#print(split)\n",
        "# divied into two part\n",
        "train_idx, test_idx = indices[split:], indices[:split]\n",
        "#print(train_idx)\n",
        "#print(test_idx)\n",
        "\n",
        "# define the sampler\n",
        "train_sampler = SubsetRandomSampler(train_idx)\n",
        "test_sampler = SubsetRandomSampler(test_idx)\n",
        "#print(train_sampler)\n",
        "#print(test_sampler)\n",
        "# prepare loaders\n",
        "train_loader = torch.utils.data.DataLoader(\n",
        "    train_data, batch_size=batch_size,\n",
        "    sampler=train_sampler)\n",
        "\n",
        "test_loader = torch.utils.data.DataLoader(\n",
        "    test_data, batch_size=batch_size,\n",
        "    sampler=test_sampler)\n",
        "\n",
        "#print(\"Train dataloader:{}\".format(len(train_loader)))\n",
        "#print(\"Test dataloader:{}\".format(len(test_loader)))"
      ],
      "execution_count": null,
      "outputs": []
    },
    {
      "cell_type": "code",
      "metadata": {
        "id": "_1au3DIuazla",
        "outputId": "55aafa93-67e4-4064-9135-7721d2a3eca1"
      },
      "source": [
        "num_epochs = num_iters / (len(train_data) / batch_size)\n",
        "num_epochs = int(num_epochs)\n",
        "print(num_epochs)\n",
        "print(len(train_idx))\n",
        "print(len(test_idx))"
      ],
      "execution_count": null,
      "outputs": [
        {
          "output_type": "stream",
          "text": [
            "78\n",
            "27620\n",
            "3068\n"
          ],
          "name": "stdout"
        }
      ]
    },
    {
      "cell_type": "code",
      "metadata": {
        "id": "OsyMXk92azla"
      },
      "source": [
        "#hp2\n",
        "class DeepNeuralNetworkModel(nn.Module):\n",
        "    def __init__(self, input_size, num_classes, num_hidden):\n",
        "        super().__init__()\n",
        "        ### 1st hidden layer: 784 --> 100\n",
        "        self.linear_1 = nn.Linear(input_size, num_hidden)\n",
        "        ### Non-linearity in 1st hidden layer\n",
        "        self.relu_1 = nn.ReLU6()\n",
        "    \n",
        "        ### Output layer: 100 --> 10\n",
        "        self.linear_out = nn.Linear(num_hidden, num_classes)\n",
        "\n",
        "    def forward(self, x):\n",
        "        ### 1st hidden layer\n",
        "        out  = self.linear_1(x)\n",
        "        ### Non-linearity in 1st hidden layer\n",
        "        out = self.relu_1(out)\n",
        "        probas  = self.linear_out(out)\n",
        "        return probas"
      ],
      "execution_count": null,
      "outputs": []
    },
    {
      "cell_type": "code",
      "metadata": {
        "id": "yiwAz9K2azla",
        "outputId": "26fa505c-b3d9-40a1-e1b2-5d0b8f22a6d1"
      },
      "source": [
        "'''\n",
        "INSTANTIATE MODEL CLASS\n",
        "'''\n",
        "model = DeepNeuralNetworkModel(input_size=input_dim,\n",
        "                           num_classes=output_dim,\n",
        "                           num_hidden = num_hidden)\n",
        "\n",
        "# To enable GPU\n",
        "model.to(device)"
      ],
      "execution_count": null,
      "outputs": [
        {
          "output_type": "execute_result",
          "data": {
            "text/plain": [
              "DeepNeuralNetworkModel(\n",
              "  (linear_1): Linear(in_features=784, out_features=50, bias=True)\n",
              "  (relu_1): ReLU6()\n",
              "  (linear_out): Linear(in_features=50, out_features=2, bias=True)\n",
              ")"
            ]
          },
          "metadata": {
            "tags": []
          },
          "execution_count": 44
        }
      ]
    },
    {
      "cell_type": "markdown",
      "metadata": {
        "id": "zNCR_BfRcjn0"
      },
      "source": [
        "**For optimizer I used Adam**\r\n",
        "\r\n",
        "The Adam optimization algorithm is an extension to stochastic gradient descent that has recently seen broader adoption for deep learning applications in computer vision and natural language processing."
      ]
    },
    {
      "cell_type": "code",
      "metadata": {
        "id": "WV887Q_4azla",
        "outputId": "8b06640f-2c5b-4779-b824-10992ed3bb52"
      },
      "source": [
        "# INSTANTIATE OPTIMIZER CLASS\n",
        "optimizer = torch.optim.Adam(model.parameters(), lr=learning_rate)\n",
        "train_data[18][0].numpy().shape"
      ],
      "execution_count": null,
      "outputs": [
        {
          "output_type": "execute_result",
          "data": {
            "text/plain": [
              "(1, 28, 28)"
            ]
          },
          "metadata": {
            "tags": []
          },
          "execution_count": 45
        }
      ]
    },
    {
      "cell_type": "code",
      "metadata": {
        "id": "I7iS7rCeazlb"
      },
      "source": [
        "criterion = nn.CrossEntropyLoss()"
      ],
      "execution_count": null,
      "outputs": []
    },
    {
      "cell_type": "code",
      "metadata": {
        "id": "lwuR2N4Uazlb",
        "outputId": "2c39d380-b5f3-40ca-9498-2d2b6e8ad618"
      },
      "source": [
        "#settng2\n",
        "iter = 0\n",
        "for epoch in range(num_epochs):\n",
        "    for i, (images, labels) in enumerate(train_loader):\n",
        "\n",
        "        images = images.view(-1, 28*28).to(device)\n",
        "        labels = labels.to(device)\n",
        "\n",
        "        # Clear gradients w.r.t. parameters\n",
        "        optimizer.zero_grad()\n",
        "\n",
        "        # Forward pass to get output/logits\n",
        "        outputs = model(images) \n",
        "\n",
        "        # Calculate Loss: softmax --> cross entropy loss\n",
        "        loss = criterion(outputs, labels)\n",
        "\n",
        "        # Getting gradients w.r.t. parameters\n",
        "        loss.backward()\n",
        "\n",
        "        # Updating parameters\n",
        "        optimizer.step()\n",
        "\n",
        "        iter += 1\n",
        "\n",
        "        if iter % 500 == 0:\n",
        "            # Calculate Accuracy         \n",
        "            correct = 0\n",
        "            total = 0\n",
        "            # Iterate through test dataset\n",
        "            for images, labels in test_loader:\n",
        "               \n",
        "                images = images.view(-1, 28*28).to(device)\n",
        "\n",
        "                # Forward pass only to get logits/output\n",
        "                outputs = model(images)\n",
        "\n",
        "                # Get predictions from the maximum value\n",
        "                _, predicted = torch.max(outputs, 1)\n",
        "\n",
        "                # Total number of labels\n",
        "                total += labels.size(0)\n",
        "\n",
        "\n",
        "                # Total correct predictions\n",
        "                if torch.cuda.is_available():\n",
        "                    correct += (predicted.cpu() == labels.cpu()).sum() \n",
        "                else:\n",
        "                    correct += (predicted == labels).sum()\n",
        "\n",
        "            accuracy = 100 * correct.item() / total\n",
        "\n",
        "            # Print Loss\n",
        "            print('Iteration: {}. Loss: {}. Accuracy: {}'.format(iter, loss.item(), accuracy))"
      ],
      "execution_count": null,
      "outputs": [
        {
          "output_type": "stream",
          "text": [
            "Iteration: 500. Loss: 0.6312745809555054. Accuracy: 62.64667535853977\n",
            "Iteration: 1000. Loss: 0.571175754070282. Accuracy: 63.07040417209909\n",
            "Iteration: 1500. Loss: 0.5585405826568604. Accuracy: 63.23337679269883\n",
            "Iteration: 2000. Loss: 0.5273416638374329. Accuracy: 62.58148631029987\n",
            "Iteration: 2500. Loss: 0.5013599395751953. Accuracy: 61.11473272490222\n",
            "Iteration: 3000. Loss: 0.5170825719833374. Accuracy: 61.79921773142112\n",
            "Iteration: 3500. Loss: 0.5470759272575378. Accuracy: 61.53846153846154\n",
            "Iteration: 4000. Loss: 0.45181816816329956. Accuracy: 60.36505867014342\n",
            "Iteration: 4500. Loss: 0.4746846854686737. Accuracy: 61.21251629726206\n",
            "Iteration: 5000. Loss: 0.4387049078941345. Accuracy: 61.04954367666232\n"
          ],
          "name": "stdout"
        }
      ]
    },
    {
      "cell_type": "markdown",
      "metadata": {
        "id": "8ALSSfjZc6Wz"
      },
      "source": [
        "##Case 03\r\n",
        " I took  **batch size**,**iteration** and **learning rate** in accordance of **400,6000,0.0006**.The length of the dataset was 30688. So,\r\n",
        "\r\n",
        "> $epoch$ $number = (6000*400)/30688 = 78 epoches$\r\n",
        "\r\n",
        "> For this Setting I used 1 layer Deep Neural Network Model. In this Layer, I used the SiLU activation function. \r\n",
        "\r\n",
        "\r\n",
        "> In the this Layer I used 100 as hidden layer value.\r\n",
        "\r\n",
        "> After Implementing logistic Regression found **60.82%** accuracy with this setting.\r\n",
        "\r\n",
        "\r\n",
        "\r\n",
        "\r\n",
        "           \r\n",
        "\r\n"
      ]
    },
    {
      "cell_type": "code",
      "metadata": {
        "id": "Auz3q9gM5Z-j"
      },
      "source": [
        "#setting hpt 3\n",
        "\n",
        "batch_size = 400\n",
        "num_iters = 6000\n",
        "input_dim = 28*28 # num_features = 784\n",
        "output_dim = 2\n",
        "num_hidden = 100\n",
        "learning_rate = 0.0006\n",
        "\n",
        "# Device\n",
        "device = torch.device(\"cuda:0\" if torch.cuda.is_available() else \"cpu\")\n",
        "#device = torch.device('cuda')"
      ],
      "execution_count": null,
      "outputs": []
    },
    {
      "cell_type": "markdown",
      "metadata": {
        "id": "6M8yd1KucWPq"
      },
      "source": [
        "**Sending data to train and test loader**"
      ]
    },
    {
      "cell_type": "code",
      "metadata": {
        "id": "F72zY674azlc"
      },
      "source": [
        "# split data 20% for testing\n",
        "test_size = 0.1\n",
        "train_data[0]\n",
        "# obtain training indices that will be used for validation\n",
        "num_train = len(train_data)\n",
        "\n",
        "# mix data\n",
        "# index of num of train\n",
        "indices = list(range(num_train))\n",
        "#print(indices)\n",
        "# random the index\n",
        "np.random.shuffle(indices)\n",
        "split = int(np.floor(test_size * num_train))\n",
        "#print(split)\n",
        "# divied into two part\n",
        "train_idx, test_idx = indices[split:], indices[:split]\n",
        "#print(train_idx)\n",
        "#print(test_idx)\n",
        "\n",
        "# define the sampler\n",
        "train_sampler = SubsetRandomSampler(train_idx)\n",
        "test_sampler = SubsetRandomSampler(test_idx)\n",
        "#print(train_sampler)\n",
        "#print(test_sampler)\n",
        "# prepare loaders\n",
        "train_loader = torch.utils.data.DataLoader(\n",
        "    train_data, batch_size=batch_size,\n",
        "    sampler=train_sampler)\n",
        "\n",
        "test_loader = torch.utils.data.DataLoader(\n",
        "    test_data, batch_size=batch_size,\n",
        "    sampler=test_sampler)\n",
        "\n",
        "#print(\"Train dataloader:{}\".format(len(train_loader)))\n",
        "#print(\"Test dataloader:{}\".format(len(test_loader)))"
      ],
      "execution_count": null,
      "outputs": []
    },
    {
      "cell_type": "code",
      "metadata": {
        "id": "hGTHEbrSazlc",
        "outputId": "f01b1c92-84a4-4df4-aa14-38fa626fe02c"
      },
      "source": [
        "num_epochs = num_iters / (len(train_data) / batch_size)\n",
        "num_epochs = int(num_epochs)\n",
        "print(num_epochs)\n",
        "print(len(train_idx))\n",
        "print(len(test_idx))"
      ],
      "execution_count": null,
      "outputs": [
        {
          "output_type": "stream",
          "text": [
            "78\n",
            "27620\n",
            "3068\n"
          ],
          "name": "stdout"
        }
      ]
    },
    {
      "cell_type": "code",
      "metadata": {
        "id": "lFVXaCdjazlc"
      },
      "source": [
        "#hp3\n",
        "class DeepNeuralNetworkModel(nn.Module):\n",
        "    def __init__(self, input_size, num_classes, num_hidden):\n",
        "        super().__init__()\n",
        "        ### 1st hidden layer: 784 --> 100\n",
        "        self.linear_1 = nn.Linear(input_size, num_hidden)\n",
        "        ### Non-linearity in 1st hidden layer\n",
        "        self.relu_1 = nn.SiLU()\n",
        "        ### Output layer: 100 --> 10\n",
        "        self.linear_out = nn.Linear(num_hidden, num_classes)\n",
        "\n",
        "    def forward(self, x):\n",
        "        ### 1st hidden layer\n",
        "        out  = self.linear_1(x)\n",
        "        ### Non-linearity in 1st hidden layer\n",
        "        out = self.relu_1(out)\n",
        "        # Linear layer (output)\n",
        "        probas  = self.linear_out(out)\n",
        "        return probas"
      ],
      "execution_count": null,
      "outputs": []
    },
    {
      "cell_type": "code",
      "metadata": {
        "id": "qxPjR8nMazlc",
        "outputId": "a8607dba-338d-44f7-a5f5-88a8d0019e26"
      },
      "source": [
        "'''\n",
        "INSTANTIATE MODEL CLASS\n",
        "'''\n",
        "model = DeepNeuralNetworkModel(input_size=input_dim,\n",
        "                           num_classes=output_dim,\n",
        "                           num_hidden = num_hidden)\n",
        "\n",
        "# To enable GPU\n",
        "model.to(device)"
      ],
      "execution_count": null,
      "outputs": [
        {
          "output_type": "execute_result",
          "data": {
            "text/plain": [
              "DeepNeuralNetworkModel(\n",
              "  (linear_1): Linear(in_features=784, out_features=100, bias=True)\n",
              "  (relu_1): SiLU()\n",
              "  (linear_out): Linear(in_features=100, out_features=2, bias=True)\n",
              ")"
            ]
          },
          "metadata": {
            "tags": []
          },
          "execution_count": 51
        }
      ]
    },
    {
      "cell_type": "markdown",
      "metadata": {
        "id": "8V41fSAwclGT"
      },
      "source": [
        "**For optimizer I used Adam**\r\n",
        "\r\n",
        "The Adam optimization algorithm is an extension to stochastic gradient descent that has recently seen broader adoption for deep learning applications in computer vision and natural language processing."
      ]
    },
    {
      "cell_type": "code",
      "metadata": {
        "id": "KunRG0S3azlc",
        "outputId": "d36bf443-203c-41d0-e8b0-7821bd675b5b"
      },
      "source": [
        "# INSTANTIATE OPTIMIZER CLASS\n",
        "optimizer = torch.optim.Adam(model.parameters(), lr=learning_rate)\n",
        "train_data[18][0].numpy().shape"
      ],
      "execution_count": null,
      "outputs": [
        {
          "output_type": "execute_result",
          "data": {
            "text/plain": [
              "(1, 28, 28)"
            ]
          },
          "metadata": {
            "tags": []
          },
          "execution_count": 52
        }
      ]
    },
    {
      "cell_type": "code",
      "metadata": {
        "id": "5_DY_K6nazld"
      },
      "source": [
        "criterion = nn.CrossEntropyLoss()"
      ],
      "execution_count": null,
      "outputs": []
    },
    {
      "cell_type": "code",
      "metadata": {
        "id": "q4f-faGuazld",
        "outputId": "83eda35e-3adf-44ea-a1f6-3ac9d43f6aab"
      },
      "source": [
        "#settng3\n",
        "iter = 0\n",
        "for epoch in range(num_epochs):\n",
        "    for i, (images, labels) in enumerate(train_loader):\n",
        "\n",
        "        images = images.view(-1, 28*28).to(device)\n",
        "        labels = labels.to(device)\n",
        "\n",
        "        # Clear gradients w.r.t. parameters\n",
        "        optimizer.zero_grad()\n",
        "\n",
        "        # Forward pass to get output/logits\n",
        "        outputs = model(images) \n",
        "\n",
        "        # Calculate Loss: softmax --> cross entropy loss\n",
        "        loss = criterion(outputs, labels)\n",
        "\n",
        "        # Getting gradients w.r.t. parameters\n",
        "        loss.backward()\n",
        "\n",
        "        # Updating parameters\n",
        "        optimizer.step()\n",
        "\n",
        "        iter += 1\n",
        "\n",
        "        if iter % 500 == 0:\n",
        "            # Calculate Accuracy         \n",
        "            correct = 0\n",
        "            total = 0\n",
        "            # Iterate through test dataset\n",
        "            for images, labels in test_loader:\n",
        "               \n",
        "                images = images.view(-1, 28*28).to(device)\n",
        "\n",
        "                # Forward pass only to get logits/output\n",
        "                outputs = model(images)\n",
        "\n",
        "                # Get predictions from the maximum value\n",
        "                _, predicted = torch.max(outputs, 1)\n",
        "\n",
        "                # Total number of labels\n",
        "                total += labels.size(0)\n",
        "\n",
        "\n",
        "                # Total correct predictions\n",
        "                if torch.cuda.is_available():\n",
        "                    correct += (predicted.cpu() == labels.cpu()).sum() \n",
        "                else:\n",
        "                    correct += (predicted == labels).sum()\n",
        "\n",
        "            accuracy = 100 * correct.item() / total\n",
        "\n",
        "            # Print Loss\n",
        "            print('Iteration: {}. Loss: {}. Accuracy: {}'.format(iter, loss.item(), accuracy))"
      ],
      "execution_count": null,
      "outputs": [
        {
          "output_type": "stream",
          "text": [
            "Iteration: 500. Loss: 0.609560489654541. Accuracy: 60.75619295958279\n",
            "Iteration: 1000. Loss: 0.5713037252426147. Accuracy: 63.6245110821382\n",
            "Iteration: 1500. Loss: 0.5273222923278809. Accuracy: 61.571056062581484\n",
            "Iteration: 2000. Loss: 0.46260613203048706. Accuracy: 61.636245110821385\n",
            "Iteration: 2500. Loss: 0.4217924177646637. Accuracy: 62.222946544980445\n",
            "Iteration: 3000. Loss: 0.4662550687789917. Accuracy: 61.92959582790091\n",
            "Iteration: 3500. Loss: 0.2392091006040573. Accuracy: 59.71316818774446\n",
            "Iteration: 4000. Loss: 0.3274632394313812. Accuracy: 61.21251629726206\n",
            "Iteration: 4500. Loss: 0.24789085984230042. Accuracy: 62.222946544980445\n",
            "Iteration: 5000. Loss: 0.23408128321170807. Accuracy: 60.821382007822685\n"
          ],
          "name": "stdout"
        }
      ]
    },
    {
      "cell_type": "markdown",
      "metadata": {
        "id": "QQ_6JOHdc8dv"
      },
      "source": [
        "##Case 04\r\n",
        " I took  **batch size**,**iteration** and **learning rate** in accordance of **400,6000,0.0006**.The length of the dataset was 30688. So,\r\n",
        "\r\n",
        "> $epoch$ $number = (6000*400)/30688 = 78 epoches$\r\n",
        "\r\n",
        "> For this Setting I used 1 layer Deep Neural Network Model. In this Layer, I used the LeakyReLU activation function. \r\n",
        "\r\n",
        "\r\n",
        "> In the this Layer I used 100 as hidden layer value.\r\n",
        "\r\n",
        "\r\n",
        "> After Implementing logistic Regression found **60.98%** accuracy with this setting.\r\n",
        "\r\n",
        "\r\n",
        "\r\n",
        "\r\n",
        "           \r\n",
        "\r\n"
      ]
    },
    {
      "cell_type": "code",
      "metadata": {
        "id": "n-SRZdY9azld"
      },
      "source": [
        "#setting hpt 6\n",
        "batch_size = 400\n",
        "num_iters = 6000\n",
        "input_dim = 28*28 # num_features = 784\n",
        "output_dim = 2\n",
        "num_hidden = 100\n",
        "\n",
        "learning_rate = 0.0006\n",
        "\n",
        "# Device\n",
        "device = torch.device(\"cuda:0\" if torch.cuda.is_available() else \"cpu\")\n",
        "#device = torch.device('cuda')"
      ],
      "execution_count": null,
      "outputs": []
    },
    {
      "cell_type": "markdown",
      "metadata": {
        "id": "br9V8YHBcYVo"
      },
      "source": [
        "**Sending data to train and test loader**"
      ]
    },
    {
      "cell_type": "code",
      "metadata": {
        "id": "cN3ZI8gS5Z-k"
      },
      "source": [
        "\n",
        "\n",
        "# split data 20% for testing\n",
        "test_size = 0.1\n",
        "train_data[0]\n",
        "# obtain training indices that will be used for validation\n",
        "num_train = len(train_data)\n",
        "\n",
        "# mix data\n",
        "# index of num of train\n",
        "indices = list(range(num_train))\n",
        "#print(indices)\n",
        "# random the index\n",
        "np.random.shuffle(indices)\n",
        "split = int(np.floor(test_size * num_train))\n",
        "#print(split)\n",
        "# divied into two part\n",
        "train_idx, test_idx = indices[split:], indices[:split]\n",
        "#print(train_idx)\n",
        "#print(test_idx)\n",
        "\n",
        "# define the sampler\n",
        "train_sampler = SubsetRandomSampler(train_idx)\n",
        "test_sampler = SubsetRandomSampler(test_idx)\n",
        "#print(train_sampler)\n",
        "#print(test_sampler)\n",
        "# prepare loaders\n",
        "train_loader = torch.utils.data.DataLoader(\n",
        "    train_data, batch_size=batch_size,\n",
        "    sampler=train_sampler)\n",
        "\n",
        "test_loader = torch.utils.data.DataLoader(\n",
        "    test_data, batch_size=batch_size,\n",
        "    sampler=test_sampler)\n",
        "\n",
        "#print(\"Train dataloader:{}\".format(len(train_loader)))\n",
        "#print(\"Test dataloader:{}\".format(len(test_loader)))"
      ],
      "execution_count": null,
      "outputs": []
    },
    {
      "cell_type": "code",
      "metadata": {
        "id": "vFbM4uicazle",
        "outputId": "19274e31-9a07-4e22-ef76-4c9adc6cca43"
      },
      "source": [
        "num_epochs = num_iters / (len(train_data) / batch_size)\n",
        "num_epochs = int(num_epochs)\n",
        "print(num_epochs)\n",
        "print(len(train_idx))\n",
        "print(len(test_idx))"
      ],
      "execution_count": null,
      "outputs": [
        {
          "output_type": "stream",
          "text": [
            "78\n",
            "27620\n",
            "3068\n"
          ],
          "name": "stdout"
        }
      ]
    },
    {
      "cell_type": "code",
      "metadata": {
        "id": "gHLZAKeoazle"
      },
      "source": [
        "#hp6\n",
        "class DeepNeuralNetworkModel(nn.Module):\n",
        "    def __init__(self, input_size, num_classes, num_hidden):\n",
        "        super().__init__()\n",
        "        ### 1st hidden layer: 784 --> 100\n",
        "        self.linear_1 = nn.Linear(input_size, num_hidden)\n",
        "        ### Non-linearity in 1st hidden layer\n",
        "        #self.relu_1 = nn.Softshrink()\n",
        "        self.relu_1 = nn.LeakyReLU()\n",
        "\n",
        "        ### Output layer: 100 --> 10\n",
        "        self.linear_out = nn.Linear(num_hidden, num_classes)\n",
        "\n",
        "    def forward(self, x):\n",
        "        ### 1st hidden layer\n",
        "        out  = self.linear_1(x)\n",
        "        ### Non-linearity in 1st hidden layer\n",
        "        out = self.relu_1(out)\n",
        "        \n",
        "        # Linear layer (output)\n",
        "        probas  = self.linear_out(out)\n",
        "        return probas"
      ],
      "execution_count": null,
      "outputs": []
    },
    {
      "cell_type": "code",
      "metadata": {
        "id": "z9tfW2iBazle",
        "outputId": "e070a5df-7d76-4521-df25-c221820a8062"
      },
      "source": [
        "'''\n",
        "INSTANTIATE MODEL CLASS\n",
        "'''\n",
        "model = DeepNeuralNetworkModel(input_size=input_dim,\n",
        "                           num_classes=output_dim,\n",
        "                           num_hidden = num_hidden)\n",
        "\n",
        "# To enable GPU\n",
        "model.to(device)"
      ],
      "execution_count": null,
      "outputs": [
        {
          "output_type": "execute_result",
          "data": {
            "text/plain": [
              "DeepNeuralNetworkModel(\n",
              "  (linear_1): Linear(in_features=784, out_features=100, bias=True)\n",
              "  (relu_1): LeakyReLU(negative_slope=0.01)\n",
              "  (linear_out): Linear(in_features=100, out_features=2, bias=True)\n",
              ")"
            ]
          },
          "metadata": {
            "tags": []
          },
          "execution_count": 58
        }
      ]
    },
    {
      "cell_type": "markdown",
      "metadata": {
        "id": "Tx-ctdppcnkB"
      },
      "source": [
        "**For optimizer I used Adam**\r\n",
        "\r\n",
        "The Adam optimization algorithm is an extension to stochastic gradient descent that has recently seen broader adoption for deep learning applications in computer vision and natural language processing."
      ]
    },
    {
      "cell_type": "code",
      "metadata": {
        "id": "N85Aa_0xazle",
        "outputId": "329772ee-75d6-46f6-f69a-57ea630455d5"
      },
      "source": [
        "# INSTANTIATE OPTIMIZER CLASS\n",
        "optimizer = torch.optim.Adam(model.parameters(), lr=learning_rate)\n",
        "train_data[18][0].numpy().shape"
      ],
      "execution_count": null,
      "outputs": [
        {
          "output_type": "execute_result",
          "data": {
            "text/plain": [
              "(1, 28, 28)"
            ]
          },
          "metadata": {
            "tags": []
          },
          "execution_count": 59
        }
      ]
    },
    {
      "cell_type": "code",
      "metadata": {
        "id": "uzsuVuMjazle"
      },
      "source": [
        "criterion = nn.CrossEntropyLoss()"
      ],
      "execution_count": null,
      "outputs": []
    },
    {
      "cell_type": "code",
      "metadata": {
        "id": "b-rfZ3L3azlf",
        "outputId": "a5e10202-e196-44b5-cd70-6753b32d77dc"
      },
      "source": [
        "#settng6\n",
        "iter = 0\n",
        "for epoch in range(num_epochs):\n",
        "    for i, (images, labels) in enumerate(train_loader):\n",
        "\n",
        "        images = images.view(-1, 28*28).to(device)\n",
        "        labels = labels.to(device)\n",
        "\n",
        "        # Clear gradients w.r.t. parameters\n",
        "        optimizer.zero_grad()\n",
        "\n",
        "        # Forward pass to get output/logits\n",
        "        outputs = model(images) \n",
        "\n",
        "        # Calculate Loss: softmax --> cross entropy loss\n",
        "        loss = criterion(outputs, labels)\n",
        "\n",
        "        # Getting gradients w.r.t. parameters\n",
        "        loss.backward()\n",
        "\n",
        "        # Updating parameters\n",
        "        optimizer.step()\n",
        "\n",
        "        iter += 1\n",
        "\n",
        "        if iter % 500 == 0:\n",
        "            # Calculate Accuracy         \n",
        "            correct = 0\n",
        "            total = 0\n",
        "            # Iterate through test dataset\n",
        "            for images, labels in test_loader:\n",
        "               \n",
        "                images = images.view(-1, 28*28).to(device)\n",
        "\n",
        "                # Forward pass only to get logits/output\n",
        "                outputs = model(images)\n",
        "\n",
        "                # Get predictions from the maximum value\n",
        "                _, predicted = torch.max(outputs, 1)\n",
        "\n",
        "                # Total number of labels\n",
        "                total += labels.size(0)\n",
        "\n",
        "\n",
        "                # Total correct predictions\n",
        "                if torch.cuda.is_available():\n",
        "                    correct += (predicted.cpu() == labels.cpu()).sum() \n",
        "                else:\n",
        "                    correct += (predicted == labels).sum()\n",
        "\n",
        "            accuracy = 100 * correct.item() / total\n",
        "\n",
        "            # Print Loss\n",
        "            print('Iteration: {}. Loss: {}. Accuracy: {}'.format(iter, loss.item(), accuracy))"
      ],
      "execution_count": null,
      "outputs": [
        {
          "output_type": "stream",
          "text": [
            "Iteration: 500. Loss: 0.6091097593307495. Accuracy: 62.28813559322034\n",
            "Iteration: 1000. Loss: 0.5351936221122742. Accuracy: 63.20078226857888\n",
            "Iteration: 1500. Loss: 0.5009832978248596. Accuracy: 62.8748370273794\n",
            "Iteration: 2000. Loss: 0.4746542274951935. Accuracy: 62.614080834419816\n",
            "Iteration: 2500. Loss: 0.4387829303741455. Accuracy: 62.15775749674055\n",
            "Iteration: 3000. Loss: 0.41864314675331116. Accuracy: 62.32073011734029\n",
            "Iteration: 3500. Loss: 0.23175056278705597. Accuracy: 61.994784876140805\n",
            "Iteration: 4000. Loss: 0.37665829062461853. Accuracy: 61.408083441981745\n",
            "Iteration: 4500. Loss: 0.3112579584121704. Accuracy: 60.104302477183836\n",
            "Iteration: 5000. Loss: 0.26297464966773987. Accuracy: 60.98435462842242\n"
          ],
          "name": "stdout"
        }
      ]
    },
    {
      "cell_type": "markdown",
      "metadata": {
        "id": "B0dqei4Jhldw"
      },
      "source": [
        "## Comparison Table"
      ]
    },
    {
      "cell_type": "markdown",
      "metadata": {
        "id": "R_3fOruQHKpi"
      },
      "source": [
        "\r\n",
        "\r\n",
        "**Ekush Dataset Comparision Table in Different Settings:-**\r\n",
        "\r\n",
        "| Settings        | Batch Size     | Iteration Number|Learing rate   |Epochs|Number of Layer|Hidden Layer|Activation Function|Accuracy(%)|\r\n",
        "| :------------- | :----------: | -----------: | ------------:|--------:|-------:|-------:|-------:|-------:|\r\n",
        "|  1 | 400   | 6000 |0.0009   | 78 |1|100|SELU|**61.86**|\r\n",
        "|  2 | 400   | 6000 |0.0006  | 78 |1|50|ReLU6|**61.04**|\r\n",
        "|  3 | 400  | 6000  |0.0006  | 78 |1|100|SiLU|60.82|\r\n",
        "|  4 | 400  | 6000  |0.0006  | 78 |1|100|LeakyReLU|60.98|\r\n"
      ]
    },
    {
      "cell_type": "code",
      "metadata": {
        "colab": {
          "base_uri": "https://localhost:8080/",
          "height": 296
        },
        "id": "VS3cli1lB4vT",
        "outputId": "84b17462-19db-4c11-ae2a-64f9acec800d"
      },
      "source": [
        "#loss1\n",
        "import matplotlib\n",
        "import matplotlib.pyplot as plt\n",
        "iteration_loss= [.64,.60,.58,.49,.47,.48,.38,.40,.38,.31]\n",
        "print (iteration_loss)\n",
        "plt.plot(iteration_loss)\n",
        "plt.ylabel('Cross Entropy Loss')\n",
        "plt.xlabel('Iteration (in every 500)')\n",
        "plt.show()"
      ],
      "execution_count": null,
      "outputs": [
        {
          "output_type": "stream",
          "text": [
            "[0.64, 0.6, 0.58, 0.49, 0.47, 0.48, 0.38, 0.4, 0.38, 0.31]\n"
          ],
          "name": "stdout"
        },
        {
          "output_type": "display_data",
          "data": {
            "image/png": "[encoded data removed]",
            "text/plain": [
              "<Figure size 432x288 with 1 Axes>"
            ]
          },
          "metadata": {
            "tags": [],
            "needs_background": "light"
          }
        }
      ]
    },
    {
      "cell_type": "code",
      "metadata": {
        "id": "XD6_Ohv3azlf",
        "outputId": "cf52308a-4b03-495e-f059-5ecccab4b797"
      },
      "source": [
        "#loss2\n",
        "import matplotlib\n",
        "import matplotlib.pyplot as plt\n",
        "iteration_loss= [.63,.57,.55,.52,.52,.51,.54,.45,.47,.43]\n",
        "print (iteration_loss)\n",
        "plt.plot(iteration_loss)\n",
        "plt.ylabel('Cross Entropy Loss')\n",
        "plt.xlabel('Iteration (in every 500)')\n",
        "plt.show()"
      ],
      "execution_count": null,
      "outputs": [
        {
          "output_type": "stream",
          "text": [
            "[0.63, 0.57, 0.55, 0.52, 0.52, 0.51, 0.54, 0.45, 0.47, 0.43]\n"
          ],
          "name": "stdout"
        },
        {
          "output_type": "display_data",
          "data": {
            "image/png": "[encoded data removed]",
            "text/plain": [
              "<Figure size 432x288 with 1 Axes>"
            ]
          },
          "metadata": {
            "tags": [],
            "needs_background": "light"
          }
        }
      ]
    },
    {
      "cell_type": "code",
      "metadata": {
        "id": "Vm9cr_KRazlf",
        "outputId": "21d8b58b-b03e-485c-c64d-740f08552996"
      },
      "source": [
        "#loss3\n",
        "import matplotlib\n",
        "import matplotlib.pyplot as plt\n",
        "iteration_loss= [.60,.57,.52,.46,.42,.46,.23,.32,.24,.23]\n",
        "print (iteration_loss)\n",
        "plt.plot(iteration_loss)\n",
        "plt.ylabel('Cross Entropy Loss')\n",
        "plt.xlabel('Iteration (in every 500)')\n",
        "plt.show()"
      ],
      "execution_count": null,
      "outputs": [
        {
          "output_type": "stream",
          "text": [
            "[0.6, 0.57, 0.52, 0.46, 0.42, 0.46, 0.23, 0.32, 0.24, 0.23]\n"
          ],
          "name": "stdout"
        },
        {
          "output_type": "display_data",
          "data": {
            "image/png": "[encoded data removed]",
            "text/plain": [
              "<Figure size 432x288 with 1 Axes>"
            ]
          },
          "metadata": {
            "tags": [],
            "needs_background": "light"
          }
        }
      ]
    },
    {
      "cell_type": "code",
      "metadata": {
        "id": "KpSsjKMXazlg",
        "outputId": "5e6b40e4-d8be-479a-b9d1-b33137ecc559"
      },
      "source": [
        "#loss6\n",
        "import matplotlib\n",
        "import matplotlib.pyplot as plt\n",
        "iteration_loss= [.60,.53,.50,.47,.43,.41,.23,.37,.31,.26]\n",
        "print (iteration_loss)\n",
        "plt.plot(iteration_loss)\n",
        "plt.ylabel('Cross Entropy Loss')\n",
        "plt.xlabel('Iteration (in every 500)')\n",
        "plt.show()"
      ],
      "execution_count": null,
      "outputs": [
        {
          "output_type": "stream",
          "text": [
            "[0.6, 0.53, 0.5, 0.47, 0.43, 0.41, 0.23, 0.37, 0.31, 0.26]\n"
          ],
          "name": "stdout"
        },
        {
          "output_type": "display_data",
          "data": {
            "image/png": "[encoded data removed]",
            "text/plain": [
              "<Figure size 432x288 with 1 Axes>"
            ]
          },
          "metadata": {
            "tags": [],
            "needs_background": "light"
          }
        }
      ]
    },
    {
      "cell_type": "markdown",
      "metadata": {
        "id": "w1f2p0VSn2Al"
      },
      "source": [
        "**Accuracy Graphs**"
      ]
    },
    {
      "cell_type": "code",
      "metadata": {
        "colab": {
          "base_uri": "https://localhost:8080/",
          "height": 316
        },
        "id": "XTYlAokGZ2cU",
        "outputId": "959f2267-96dc-49ea-99e0-1ec6d3dc6c82"
      },
      "source": [
        "#acc1\n",
        "import matplotlib\n",
        "import matplotlib.pyplot as plt\n",
        "iteration_loss= [59.84,61.79,61.01,60.91,60.98,61.79,59.06,60.65,58.40,61.86]\n",
        "print (iteration_loss)\n",
        "plt.plot(iteration_loss,color=\"red\")\n",
        "plt.ylabel('Accuracy in percentage')\n",
        "plt.xlabel('Iteration (in every 500)')\n",
        "plt.show()"
      ],
      "execution_count": null,
      "outputs": [
        {
          "output_type": "stream",
          "text": [
            "[59.84, 61.79, 61.01, 60.91, 60.98, 61.79, 59.06, 60.65, 58.4, 61.86]\n"
          ],
          "name": "stdout"
        },
        {
          "output_type": "display_data",
          "data": {
            "image/png": "[encoded data removed]",
            "text/plain": [
              "<Figure size 432x288 with 1 Axes>"
            ]
          },
          "metadata": {
            "tags": [],
            "needs_background": "light"
          }
        }
      ]
    },
    {
      "cell_type": "code",
      "metadata": {
        "id": "OZm7v-q9azlg",
        "outputId": "21e781da-dcad-4ffd-a84c-6c0b35b78069"
      },
      "source": [
        "#acc2\n",
        "import matplotlib\n",
        "import matplotlib.pyplot as plt\n",
        "iteration_loss= [62.64,63.07,63.23,62.58,61.11,61.79,61.53,60.36,61.21,61.04]\n",
        "print (iteration_loss)\n",
        "plt.plot(iteration_loss,color=\"red\")\n",
        "plt.ylabel('Accuracy in percentage')\n",
        "plt.xlabel('Iteration (in every 500)')\n",
        "plt.show()"
      ],
      "execution_count": null,
      "outputs": [
        {
          "output_type": "stream",
          "text": [
            "[62.64, 63.07, 63.23, 62.58, 61.11, 61.79, 61.53, 60.36, 61.21, 61.04]\n"
          ],
          "name": "stdout"
        },
        {
          "output_type": "display_data",
          "data": {
            "image/png": "[encoded data removed]",
            "text/plain": [
              "<Figure size 432x288 with 1 Axes>"
            ]
          },
          "metadata": {
            "tags": [],
            "needs_background": "light"
          }
        }
      ]
    },
    {
      "cell_type": "code",
      "metadata": {
        "id": "nTrIKebfazlg",
        "outputId": "41621a8f-1826-43f0-b90e-c4207d675cef"
      },
      "source": [
        "#acc3\n",
        "import matplotlib\n",
        "import matplotlib.pyplot as plt\n",
        "iteration_loss= [60.75,63.62,61.57,61.63,62.22,61.92,59.71,61.21,62.22,60.82]\n",
        "print (iteration_loss)\n",
        "plt.plot(iteration_loss,color=\"red\")\n",
        "plt.ylabel('Accuracy in percentage')\n",
        "plt.xlabel('Iteration (in every 500)')\n",
        "plt.show()"
      ],
      "execution_count": null,
      "outputs": [
        {
          "output_type": "stream",
          "text": [
            "[60.75, 63.62, 61.57, 61.63, 62.22, 61.92, 59.71, 61.21, 62.22, 60.82]\n"
          ],
          "name": "stdout"
        },
        {
          "output_type": "display_data",
          "data": {
            "image/png": "[encoded data removed]",
            "text/plain": [
              "<Figure size 432x288 with 1 Axes>"
            ]
          },
          "metadata": {
            "tags": [],
            "needs_background": "light"
          }
        }
      ]
    },
    {
      "cell_type": "code",
      "metadata": {
        "id": "hFvPm3RGazlh",
        "outputId": "73e4bdfe-e968-46f0-868a-aadf63a33d2e"
      },
      "source": [
        "#acc6\n",
        "import matplotlib\n",
        "import matplotlib.pyplot as plt\n",
        "iteration_loss= [62.28,63.20,62.87,62.61,62.15,62.32,61.99,61.40,60.10,60.98]\n",
        "print (iteration_loss)\n",
        "plt.plot(iteration_loss,color=\"red\")\n",
        "plt.ylabel('Accuracy in percentage')\n",
        "plt.xlabel('Iteration (in every 500)')\n",
        "plt.show()"
      ],
      "execution_count": null,
      "outputs": [
        {
          "output_type": "stream",
          "text": [
            "[62.28, 63.2, 62.87, 62.61, 62.15, 62.32, 61.99, 61.4, 60.1, 60.98]\n"
          ],
          "name": "stdout"
        },
        {
          "output_type": "display_data",
          "data": {
            "image/png": "[encoded data removed]",
            "text/plain": [
              "<Figure size 432x288 with 1 Axes>"
            ]
          },
          "metadata": {
            "tags": [],
            "needs_background": "light"
          }
        }
      ]
    },
    {
      "cell_type": "markdown",
      "metadata": {
        "id": "bQdZEgUyORp7"
      },
      "source": [
        "#Comparision Graph between Loss and Accuracy"
      ]
    },
    {
      "cell_type": "markdown",
      "metadata": {
        "id": "KqXlYHPjdz60"
      },
      "source": [
        "**Case 1**\r\n",
        "<div align=\"center\">\r\n",
        "<img src=\"https://drive.google.com/uc?id=1f6SyL8jsTOQvstEzfloyoWNp8_l8khlb\" width=\"300\">\r\n",
        "<img src=\"https://drive.google.com/uc?id=1KkxhoIYAwXbTp8RS1TU2lE-KC4l4kK6U\"width=\"300\">\r\n",
        "<figcaption>figure 2: Accuracy and Loss in Case 1 </figcaption>"
      ]
    },
    {
      "cell_type": "markdown",
      "metadata": {
        "id": "2EQZo_bJeUiH"
      },
      "source": [
        "**Case 2**\r\n",
        "<div align=\"center\">\r\n",
        "<img src=\"https://drive.google.com/uc?id=1v-g-pZ5m5QtKhnJdBwdmiITel0T8EfjR\" width=\"300\">\r\n",
        "<img src=\"https://drive.google.com/uc?id=1VFSP1TDhIW6TDiDsdXn1AQlnKnWKxZU4\"width=\"300\">\r\n",
        "<figcaption>figure 3: Accuracy and Loss in Case 2 </figcaption>"
      ]
    },
    {
      "cell_type": "markdown",
      "metadata": {
        "id": "x-4uhoc-eVIA"
      },
      "source": [
        "**Case 3**\r\n",
        "<div align=\"center\">\r\n",
        "<img src=\"https://drive.google.com/uc?id=1gyx1axBax-bnr27VscjWkkZgo3NMJjeZ\" width=\"300\">\r\n",
        "<img src=\"https://drive.google.com/uc?id=1FPsjp-NqvpxyGdqc60uE4QkCAwO15_GS\"width=\"300\">\r\n",
        "<figcaption>figure 4: Accuracy and Loss in Case 3 </figcaption>"
      ]
    },
    {
      "cell_type": "markdown",
      "metadata": {
        "id": "IUIdednpeVdK"
      },
      "source": [
        "**Case 4**\r\n",
        "<div align=\"center\">\r\n",
        "<img src=\"https://drive.google.com/uc?id=1PP9fuztNcDVPXQsKWq_nykqn8WaUh-gB\" width=\"300\">\r\n",
        "<img src=\"https://drive.google.com/uc?id=1G3tZKPnRwFuci1ro_87mledHqpG_yQSl\"width=\"300\">\r\n",
        "<figcaption>figure 5: Accuracy and Loss in Case 4 </figcaption>"
      ]
    },
    {
      "cell_type": "markdown",
      "metadata": {
        "id": "yb5Ko0vfFoGl"
      },
      "source": [
        "#Best Model"
      ]
    },
    {
      "cell_type": "markdown",
      "metadata": {
        "id": "15k0fORHFtrY"
      },
      "source": [
        "**Hyper Parameter Values**\r\n",
        "\r\n",
        "$Batch$ $size = 400 $\r\n",
        "\r\n",
        "$Iteration =6000$\r\n",
        "\r\n",
        "$learning$ $Rate = 0.0009$\r\n",
        "\r\n",
        "$Hidden$ $layer$  = $100$\r\n",
        "\r\n",
        "$Activation$  = $SELU$\r\n",
        "\r\n",
        "\r\n",
        "\r\n"
      ]
    },
    {
      "cell_type": "markdown",
      "metadata": {
        "id": "elH7wBmvGjmb"
      },
      "source": [
        "$Accuracy($%$) = 61.86$"
      ]
    },
    {
      "cell_type": "markdown",
      "metadata": {
        "id": "fEuCKatpIzRK"
      },
      "source": [
        "**My best Model able to predict 3 correctly out of 5 in my testing.**"
      ]
    },
    {
      "cell_type": "markdown",
      "metadata": {
        "id": "zBw6UFajL06w"
      },
      "source": [
        "**Model Saving Code**"
      ]
    },
    {
      "cell_type": "code",
      "metadata": {
        "id": "1q-BCJUATFQY"
      },
      "source": [
        "save_model = True\n",
        "\n",
        "if save_model is True:\n",
        "    # Saves only parameters\n",
        "    # wights & biases\n",
        "    torch.save(model.state_dict(), PATH + 'ekushna1.pkl')"
      ],
      "execution_count": null,
      "outputs": []
    },
    {
      "cell_type": "markdown",
      "metadata": {
        "id": "LWPajNfSL8RM"
      },
      "source": [
        "**Model Loading Code**"
      ]
    },
    {
      "cell_type": "code",
      "metadata": {
        "id": "ih0ydaQ_TM_8",
        "outputId": "9740855e-e333-4825-e978-246e32450141"
      },
      "source": [
        "load_model = True\n",
        "\n",
        "if load_model is True:\n",
        "    model.load_state_dict(torch.load(PATH + 'ekushna1.pkl'))\n",
        "    print('Trained Model Loaded')"
      ],
      "execution_count": null,
      "outputs": [
        {
          "output_type": "stream",
          "text": [
            "Trained Model Loaded\n"
          ],
          "name": "stdout"
        }
      ]
    },
    {
      "cell_type": "markdown",
      "metadata": {
        "id": "BUlFN3cv2lwQ"
      },
      "source": [
        "**Load Image From Test Loader**"
      ]
    },
    {
      "cell_type": "code",
      "metadata": {
        "colab": {
          "base_uri": "https://localhost:8080/",
          "height": 193
        },
        "id": "ILM3bTT85Z-p",
        "outputId": "7cfb5edc-f92d-4824-d339-8f652e642374"
      },
      "source": [
        "for images, labels in test_loader:\n",
        "    break\n",
        "    \n",
        "fig, ax = plt.subplots(1, 5)\n",
        "for i in range(5):\n",
        "    ax[i].imshow(images[i].view(28, 28), cmap=matplotlib.cm.binary)\n",
        "   \n",
        "\n",
        "plt.show()\n",
        "\n",
        "for i in range(5):\n",
        "    \n",
        "    print(labels[i].numpy())\n",
        "\n",
        "#plt.show()"
      ],
      "execution_count": null,
      "outputs": [
        {
          "output_type": "display_data",
          "data": {
            "image/png": "[encoded data removed]",
            "text/plain": [
              "<Figure size 432x288 with 5 Axes>"
            ]
          },
          "metadata": {
            "tags": [],
            "needs_background": "light"
          }
        },
        {
          "output_type": "stream",
          "text": [
            "0\n",
            "1\n",
            "0\n",
            "1\n",
            "0\n"
          ],
          "name": "stdout"
        }
      ]
    },
    {
      "cell_type": "markdown",
      "metadata": {
        "id": "GfhqENh9MP5O"
      },
      "source": [
        "**Counting Correctly Predicted Results**"
      ]
    },
    {
      "cell_type": "code",
      "metadata": {
        "colab": {
          "base_uri": "https://localhost:8080/"
        },
        "id": "6wXqhv_U5Z-p",
        "outputId": "a347d1ff-bfd1-4c6b-c8d0-4e9a3f2e0fab"
      },
      "source": [
        "predictions = model.forward(images[:5].view(-1, 28*28).to(device))\n",
        "predictions = torch.argmax(predictions, dim=1)\n",
        "print('Predicted labels', predictions.cpu().numpy())"
      ],
      "execution_count": null,
      "outputs": [
        {
          "output_type": "stream",
          "text": [
            "Predicted labels [0 0 0 1 0]\n"
          ],
          "name": "stdout"
        }
      ]
    },
    {
      "cell_type": "markdown",
      "metadata": {
        "id": "CoddbUEiMlOL"
      },
      "source": [
        "# Drive Links for Train Models\r\n",
        "\r\n",
        "> **Setting 1:** [https://drive.google.com/file/d/1wi3yTmUVsKFP3Yvlt0OGMGIBOlXSL_Yz/view?usp=sharing](https://)\r\n",
        "\r\n",
        "> **Setting 2:** [https://drive.google.com/file/d/1L7UNg28OToXqoUqv6TaD4DKxF1jZ9PGw/view?usp=sharing](https://)\r\n",
        "\r\n",
        "> **Setting 3:** [https://drive.google.com/file/d/1NmO89TdyusHwNXcHJKj8gooBCtkHavG6/view?usp=sharing](https://)\r\n",
        "\r\n",
        "> **Setting 4:** [https://drive.google.com/file/d/1pLtnfLn3KZgs5EOZSHA80JzgH7K8IOAg/view?usp=sharing](https://)\r\n",
        "\r\n",
        "\r\n",
        "\r\n",
        "\r\n",
        "\r\n",
        "\r\n",
        "\r\n",
        "\r\n",
        "\r\n",
        "\r\n",
        "\r\n"
      ]
    }
  ]
}