{
  "nbformat": 4,
  "nbformat_minor": 0,
  "metadata": {
    "kernelspec": {
      "display_name": "Python 3",
      "language": "python",
      "name": "python3"
    },
    "language_info": {
      "codemirror_mode": {
        "name": "ipython",
        "version": 3
      },
      "file_extension": ".py",
      "mimetype": "text/x-python",
      "name": "python",
      "nbconvert_exporter": "python",
      "pygments_lexer": "ipython3",
      "version": "3.8.5"
    },
    "colab": {
      "name": "160204021_Problem#2.ipynb",
      "provenance": [],
      "collapsed_sections": []
    }
  },
  "cells": [
    {
      "cell_type": "markdown",
      "metadata": {
        "id": "yEsnY7Xz5t5X"
      },
      "source": [
        "#Ekush Dataset\r\n",
        "**Ekhus** is the largest dataset of handwritten Bangla characters for research on handwritten Bangla character recognition. The Ekush database contains handwritten Bengali digits (০ through ৯), letters and can provide a baseline for testing Bengali digit and letter recognition using the machine and deep learning architecture.\r\n",
        "\r\n",
        "\r\n",
        "<div align=\"center\">\r\n",
        "<img src=\"https://drive.google.com/uc?id=1CcAG-Et-fpvtVh7Kjv7ZU7Ih6HmwbzRT\" width=\"200\">\r\n",
        "<img src=\"https://drive.google.com/uc?id=1qPn7h0YyKLEC3GHwDJAs5jf8oNQLJnvF\" width=\"200\">\r\n",
        "<img src=\"https://drive.google.com/uc?id=1x5_DN8uzGFOVhqSK4OVsEwuWy3FBHZZU\" width=\"200\">\r\n",
        "</div>\r\n",
        "<div align=\"center\">\r\n",
        "<img src=\"https://drive.google.com/uc?id=1A9HcemWBWa7vHlfvmZYwO8uDXcaAGeGg\" width=\"200\">\r\n",
        "<img src=\"https://drive.google.com/uc?id=1PAJrQ4bQxxopv-UI_YcM81lxoE8dvCGK\" width=\"200\">\r\n",
        "<img src=\"https://drive.google.com/uc?id=1HDm1iy2FBQSHELXDFxx3TlBaqViGJ-Vn\" width=\"200\">\r\n",
        "<figcaption>figure 1: Ekush dataset Snapshot</figcaption>\r\n",
        "</div>\r\n",
        "\r\n",
        "</div>\r\n",
        "\r\n"
      ]
    },
    {
      "cell_type": "markdown",
      "metadata": {
        "id": "GSnKmGjTXqlT"
      },
      "source": [
        "**Importing Necessary Libaries**"
      ]
    },
    {
      "cell_type": "code",
      "metadata": {
        "id": "iw41y32q5Z-a"
      },
      "source": [
        "import os\n",
        "from os import path\n",
        "import shutil\n",
        "import numpy as np\n",
        "import pandas as pd\n",
        "import torch\n",
        "import torch.nn as nn\n",
        "import torch.nn.functional as F\n",
        "import torch.optim as optim\n",
        "from torch.utils.data import Dataset\n",
        "from torch.utils.data.sampler import SubsetRandomSampler\n",
        "from torchvision import datasets, transforms, models\n",
        "import matplotlib\n",
        "import matplotlib.pyplot as plt\n",
        "from PIL import Image\n",
        "from torch.utils.data import Dataset\n",
        "from torch.utils.data.sampler import SubsetRandomSampler\n",
        "from torchvision import datasets, transforms, models"
      ],
      "execution_count": null,
      "outputs": []
    },
    {
      "cell_type": "markdown",
      "metadata": {
        "id": "xAxp5YFQU7B9"
      },
      "source": [
        "#**Pre Processing**\r\n",
        "\r\n",
        "---\r\n",
        "In the website ([https://shahariarrabby.github.io/ekush/#home](https://) ) I found two CSV files of the male and female dataset with the raw image data. As their task was to classify Bengali digits so there are ten labels. But my given task was to find that whether the written digit was written by a male or female. So I need to change the label of the CSV files. So there is two way I found out to solve the problem. One way is I just change the label column using pandas library as CSV file contains all pixel values. Another approach is to use the raw image and creative CSV with image Id and labeling of male or female. As I completed my Numtadb dataset assignment earlier with the raw image I decided to use the same formatting code and choose to work with the raw data of the Ekhush dataset. In their raw data folder male and female written digit were separated into different folders according to digit values. I merged and renamed those images for both males and females and put them into two folders. Then I reshaped those images into 200*200 dimensions as images were not in the same dimensions and created two new folders containing male and female.\r\n",
        "#Re-size code\r\n",
        "```\r\n",
        "from PIL import Image\r\n",
        "import glob\r\n",
        "import os\r\n",
        "\r\n",
        "# new folder path (may need to alter for Windows OS)\r\n",
        "# change path to your path\r\n",
        "path = 'C:/Users/Anas/Downloads/archive/female_digit'\r\n",
        "# create new folder\r\n",
        "if not os.path.exists(path):\r\n",
        "    os.makedirs(path)\r\n",
        "\r\n",
        "# loop over existing images and resize\r\n",
        "# change path to your path\r\n",
        "for filename in glob.glob('C:/Users/Anas/Downloads/archive/ female_digit200/*.png'):\r\n",
        "    img = Image.open(filename).resize((200,200))\r\n",
        "    # save resized images to new folder with existing filename\r\n",
        "    img.save('{}{}{}'.format(path,'/',os.path.split(filename)[1]))\r\n",
        "```\r\n",
        "Then I created 2 CSV files for male and female. I took the two-image folder and generate a two CSV file containing the image name and label.\r\n",
        "\r\n",
        "#CSV Creating From Raw Images\r\n",
        "```\r\n",
        "import os\r\n",
        "import pandas\r\n",
        "a=os.listdir('C:/Users/Anas/Downloads/raw_image/male_digit200/')\r\n",
        "print(a)\r\n",
        "for i in a:\r\n",
        "    print(i)\r\n",
        "l=[]\r\n",
        "for i in range(len(a)):\r\n",
        "    l.append(0)\r\n",
        "df = pandas.DataFrame(data={\"digit\": 0, \"filename\": a})\r\n",
        "df.to_csv(\"C:/Users/Anas/Downloads/raw_image/male_digit200.csv\", sep=',',index=False)\r\n",
        "```\r\n",
        "\r\n",
        "\r\n",
        "\r\n",
        "\r\n",
        "\r\n",
        "\r\n",
        "\r\n",
        "\r\n",
        "\r\n",
        "\r\n",
        "\r\n",
        "\r\n",
        "\r\n"
      ]
    },
    {
      "cell_type": "markdown",
      "metadata": {
        "id": "_pGgTtGdfNjQ"
      },
      "source": [
        "- **Input dimension:**\r\n",
        "  - Size of image: $28 \\times 28 = 784$\r\n",
        "\r\n",
        "- **Output dimension: 2**\r\n",
        "  - 0 1\r\n",
        "\r\n",
        "\r\n",
        "*  **Dataset Length : 30688**\r\n",
        "\r\n",
        "\r\n"
      ]
    },
    {
      "cell_type": "markdown",
      "metadata": {
        "id": "x-tQ0hXo2af5"
      },
      "source": [
        "**For Accessing Drive Contents**\r\n",
        "\r\n",
        "\r\n",
        "\r\n",
        "\r\n"
      ]
    },
    {
      "cell_type": "code",
      "metadata": {
        "id": "EQTIFZxF5fS3",
        "colab": {
          "base_uri": "https://localhost:8080/"
        },
        "outputId": "13f89457-f91c-4dee-94fb-c910798b604c"
      },
      "source": [
        "from google.colab import drive\r\n",
        "\r\n",
        "drive.mount('/content/gdrive')"
      ],
      "execution_count": null,
      "outputs": [
        {
          "output_type": "stream",
          "text": [
            "Mounted at /content/gdrive\n"
          ],
          "name": "stdout"
        }
      ]
    },
    {
      "cell_type": "markdown",
      "metadata": {
        "id": "PnGn0j-a2IVe"
      },
      "source": [
        "**Google Drive directory for Files**"
      ]
    },
    {
      "cell_type": "code",
      "metadata": {
        "id": "n0tmMgh55Z-f",
        "colab": {
          "base_uri": "https://localhost:8080/"
        },
        "outputId": "9488a95d-9794-4278-e1c4-f381703d2dd8"
      },
      "source": [
        "PATH = '/content/gdrive/MyDrive/sc_data_as1/ekush/'\n",
        "os.listdir(PATH)"
      ],
      "execution_count": null,
      "outputs": [
        {
          "output_type": "execute_result",
          "data": {
            "text/plain": [
              "['maleDigits.csv',\n",
              " 'femaleDigits.csv',\n",
              " 'mergeddataset.csv',\n",
              " 'mergeddataset(nonow).csv',\n",
              " 'male_digit200.csv',\n",
              " 'female_digit200.csv',\n",
              " 'female_digit200',\n",
              " 'male_digit200',\n",
              " 'train_n200',\n",
              " 'ekush3.pkl',\n",
              " 'ekush4.pkl',\n",
              " 'ekush5.pkl',\n",
              " 'ekush1.pkl',\n",
              " 'ekush2.pkl']"
            ]
          },
          "metadata": {
            "tags": []
          },
          "execution_count": 4
        }
      ]
    },
    {
      "cell_type": "markdown",
      "metadata": {
        "id": "R3BcZFil2rHG"
      },
      "source": [
        "**A function for reading data from CSV files**"
      ]
    },
    {
      "cell_type": "code",
      "metadata": {
        "id": "OOH9vwl15Z-g"
      },
      "source": [
        "def showRawTrainingSamples(csv_filename):\n",
        "  df = pd.read_csv(PATH + csv_filename)\n",
        "  print(csv_filename)\n",
        "  print(df.columns)\n",
        "  return df"
      ],
      "execution_count": null,
      "outputs": []
    },
    {
      "cell_type": "code",
      "metadata": {
        "id": "hX3vEMxP5Z-g",
        "colab": {
          "base_uri": "https://localhost:8080/"
        },
        "outputId": "1d28130f-830c-4d84-d1c7-d44eedac5636"
      },
      "source": [
        "a_csv = showRawTrainingSamples('male_digit200.csv')\n",
        "b_csv = showRawTrainingSamples('female_digit200.csv')"
      ],
      "execution_count": null,
      "outputs": [
        {
          "output_type": "stream",
          "text": [
            "male_digit200.csv\n",
            "Index(['digit', 'filename'], dtype='object')\n",
            "female_digit200.csv\n",
            "Index(['digit', 'filename'], dtype='object')\n"
          ],
          "name": "stdout"
        }
      ]
    },
    {
      "cell_type": "code",
      "metadata": {
        "id": "EihcLm085Z-g"
      },
      "source": [
        "def dropColumns(csv_file):\n",
        "  csv_file = csv_file[['filename', 'digit']]\n",
        "  print(csv_file)\n",
        "  print(csv_file.iloc[:2, :])   \n",
        "  print(\"=============================\")\n",
        "  return csv_file"
      ],
      "execution_count": null,
      "outputs": []
    },
    {
      "cell_type": "code",
      "metadata": {
        "id": "Qk1Jf-tT5Z-h",
        "colab": {
          "base_uri": "https://localhost:8080/"
        },
        "outputId": "ab091aeb-47d2-4618-fa71-0e1a74d952a3"
      },
      "source": [
        "a_csv = dropColumns(a_csv)\n",
        "b_csv = dropColumns(b_csv)"
      ],
      "execution_count": null,
      "outputs": [
        {
          "output_type": "stream",
          "text": [
            "             filename  digit\n",
            "0         male_a0.jpg      0\n",
            "1         male_a1.jpg      0\n",
            "2        male_a10.jpg      0\n",
            "3       male_a100.jpg      0\n",
            "4      male_a1000.jpg      0\n",
            "...               ...    ...\n",
            "15063   male_j995.jpg      0\n",
            "15064   male_j996.jpg      0\n",
            "15065   male_j997.jpg      0\n",
            "15066   male_j998.jpg      0\n",
            "15067   male_j999.jpg      0\n",
            "\n",
            "[15068 rows x 2 columns]\n",
            "      filename  digit\n",
            "0  male_a0.jpg      0\n",
            "1  male_a1.jpg      0\n",
            "=============================\n",
            "               filename  digit\n",
            "0         female_a0.jpg      1\n",
            "1         female_a1.jpg      1\n",
            "2        female_a10.jpg      1\n",
            "3       female_a100.jpg      1\n",
            "4      female_a1000.jpg      1\n",
            "...                 ...    ...\n",
            "15615   female_j995.jpg      1\n",
            "15616   female_j996.jpg      1\n",
            "15617   female_j997.jpg      1\n",
            "15618   female_j998.jpg      1\n",
            "15619   female_j999.jpg      1\n",
            "\n",
            "[15620 rows x 2 columns]\n",
            "        filename  digit\n",
            "0  female_a0.jpg      1\n",
            "1  female_a1.jpg      1\n",
            "=============================\n"
          ],
          "name": "stdout"
        }
      ]
    },
    {
      "cell_type": "markdown",
      "metadata": {
        "id": "f0OCx3jt2-A4"
      },
      "source": [
        "**Merging CSV files**"
      ]
    },
    {
      "cell_type": "code",
      "metadata": {
        "id": "ePBB9awj5Z-h",
        "colab": {
          "base_uri": "https://localhost:8080/"
        },
        "outputId": "a219f47b-8e75-4ad7-a27c-3fae0883cbf1"
      },
      "source": [
        "total_csv = [a_csv, b_csv]\n",
        "merged_csv = pd.concat(total_csv)\n",
        "print(len(merged_csv))"
      ],
      "execution_count": null,
      "outputs": [
        {
          "output_type": "stream",
          "text": [
            "30688\n"
          ],
          "name": "stdout"
        }
      ]
    },
    {
      "cell_type": "markdown",
      "metadata": {
        "id": "dR5_9rb23LdC"
      },
      "source": [
        "**Create a Path for merged Images**"
      ]
    },
    {
      "cell_type": "code",
      "metadata": {
        "id": "JAjQWgL-5Z-h"
      },
      "source": [
        "TRAIN_PATH = '/content/gdrive/MyDrive/sc_data_as1/ekush/train_n200'\n",
        "#os.mkdir(TRAIN_PATH)"
      ],
      "execution_count": null,
      "outputs": []
    },
    {
      "cell_type": "markdown",
      "metadata": {
        "id": "P78QiiQS3ak2"
      },
      "source": [
        "\r\n",
        "\r\n",
        "**Merging image Function**"
      ]
    },
    {
      "cell_type": "code",
      "metadata": {
        "id": "VJI7QzEp5Z-i"
      },
      "source": [
        "def processImages(folder_name):\n",
        "  src = PATH + folder_name + '/'\n",
        "  dir_folders = os.listdir(src)\n",
        "  for dir_name in dir_folders:\n",
        "    file_name = os.path.join(src, dir_name)\n",
        "    if os.path.isfile(file_name):\n",
        "      shutil.copy(file_name, TRAIN_PATH)"
      ],
      "execution_count": null,
      "outputs": []
    },
    {
      "cell_type": "markdown",
      "metadata": {
        "id": "jEhsib5N3hWS"
      },
      "source": [
        "**Calling merger function for images**"
      ]
    },
    {
      "cell_type": "code",
      "metadata": {
        "id": "QFQN1i9I5Z-i",
        "colab": {
          "base_uri": "https://localhost:8080/"
        },
        "outputId": "26b7ba0e-a590-443d-fd07-d5a2259dc30d"
      },
      "source": [
        "processImages('male_digit200')\n",
        "print('A Done')\n",
        "processImages('female_digit200')\n",
        "print('B Done')\n"
      ],
      "execution_count": null,
      "outputs": [
        {
          "output_type": "stream",
          "text": [
            "A Done\n",
            "B Done\n"
          ],
          "name": "stdout"
        }
      ]
    },
    {
      "cell_type": "markdown",
      "metadata": {
        "id": "GN0uwwEh37Ti"
      },
      "source": [
        "**Create a Custom Dataset Function**"
      ]
    },
    {
      "cell_type": "code",
      "metadata": {
        "id": "xSDLFIg05Z-i"
      },
      "source": [
        "class Dataset(Dataset):\n",
        "    def __init__(self, df, root, transform=None):\n",
        "        self.data = df\n",
        "        self.root = root\n",
        "        self.transform = transform\n",
        "    def __len__(self):\n",
        "        return len(self.data)\n",
        "    \n",
        "    def __getitem__(self, index):\n",
        "        item = self.data.iloc[index]\n",
        "        \n",
        "        path = self.root + \"/\" + item[0]\n",
        "        image = Image.open(path).convert('L')\n",
        "        label = item[1]\n",
        "        \n",
        "        if self.transform is not None:\n",
        "            image = self.transform(image)\n",
        "            \n",
        "        return image, label"
      ],
      "execution_count": null,
      "outputs": []
    },
    {
      "cell_type": "code",
      "metadata": {
        "id": "FDUSuFkM5Z-i",
        "colab": {
          "base_uri": "https://localhost:8080/"
        },
        "outputId": "277162bc-89e6-4cb0-8238-9539a29b2390"
      },
      "source": [
        "mean = [0.5,]\n",
        "std = [0.5, ]\n",
        "c=1\n",
        "\n",
        "train_transform = transforms.Compose([\n",
        "    transforms.Grayscale(c),\n",
        "    transforms.Resize(28),\n",
        "    transforms.ToTensor(),\n",
        "    transforms.Normalize(mean, std)\n",
        "])\n",
        "\n",
        "test_transform = transforms.Compose([\n",
        "        transforms.Grayscale(c),\n",
        "        transforms.Resize(28),\n",
        "        transforms.ToTensor(),\n",
        "        transforms.Normalize(mean, std)\n",
        "])\n",
        "\n",
        "train_data  = Dataset(merged_csv, TRAIN_PATH, train_transform)\n",
        "test_data = Dataset(merged_csv, TRAIN_PATH, test_transform)\n",
        "print(train_data[0])\n",
        "print(\"Trainig Samples: \",len(train_data))"
      ],
      "execution_count": null,
      "outputs": [
        {
          "output_type": "stream",
          "text": [
            "(tensor([[[ 1.0000,  1.0000,  1.0000,  1.0000,  1.0000,  1.0000,  1.0000,\n",
            "           1.0000,  1.0000,  0.9922,  0.9922,  0.9922,  0.9922,  0.9922,\n",
            "           0.9922,  0.9922,  0.9922,  1.0000,  1.0000,  1.0000,  1.0000,\n",
            "           1.0000,  1.0000,  0.9922,  0.9922,  0.9922,  1.0000,  1.0000],\n",
            "         [ 1.0000,  1.0000,  1.0000,  1.0000,  1.0000,  0.9922,  0.9922,\n",
            "           0.9843,  0.9843,  0.9216,  0.7647,  0.7333,  0.7412,  0.7333,\n",
            "           0.7412,  0.7725,  0.9137,  0.9843,  0.9922,  0.9922,  0.9922,\n",
            "           0.9843,  0.9922,  0.9922,  0.9843,  0.9843,  1.0000,  1.0000],\n",
            "         [ 1.0000,  1.0000,  1.0000,  1.0000,  0.9922,  0.9843,  0.9843,\n",
            "           0.9843,  0.9765,  0.5686, -0.4118, -0.5843, -0.5686, -0.5765,\n",
            "          -0.5686, -0.4588,  0.1216,  0.4039,  0.5294,  0.8745,  0.9843,\n",
            "           0.9765,  0.9765,  0.9843,  0.9922,  0.9922,  1.0000,  1.0000],\n",
            "         [ 1.0000,  1.0000,  0.9922,  0.9922,  0.9922,  0.9843,  0.9843,\n",
            "           0.9529,  0.6549, -0.1843, -0.8902, -0.9843, -0.9922, -0.9922,\n",
            "          -0.9922, -0.9686, -0.8824, -0.8275, -0.6471,  0.1059,  0.7882,\n",
            "           0.9686,  0.9686,  0.9843,  0.9843,  0.9843,  0.9922,  1.0000],\n",
            "         [ 1.0000,  1.0000,  0.9922,  0.9922,  0.9843,  0.9843,  0.9137,\n",
            "           0.4275, -0.4196, -0.9059, -0.9843, -0.9843, -0.9922, -0.9843,\n",
            "          -0.9765, -0.9686, -0.9608, -0.9843, -0.9843, -0.8118, -0.1765,\n",
            "           0.4196,  0.7176,  0.9608,  0.9843,  0.9922,  0.9922,  1.0000],\n",
            "         [ 1.0000,  1.0000,  1.0000,  0.9922,  0.9843,  0.9686,  0.6549,\n",
            "          -0.4275, -0.9529, -0.9843, -0.9922, -0.9922, -0.9922, -0.9843,\n",
            "          -0.8980, -0.3333, -0.1608, -0.6627, -0.8824, -0.9686, -0.9216,\n",
            "          -0.7804, -0.3333,  0.5529,  0.9686,  0.9922,  1.0000,  1.0000],\n",
            "         [ 0.9922,  0.9922,  0.9843,  0.9843,  0.9843,  0.8353, -0.0902,\n",
            "          -0.8588, -1.0000, -0.9922, -0.9843, -0.9922, -0.9922, -0.9922,\n",
            "          -0.8039,  0.3020,  0.8353,  0.5059,  0.1451, -0.5765, -0.9529,\n",
            "          -0.9922, -0.8745, -0.0431,  0.8039,  0.9922,  0.9922,  0.9922],\n",
            "         [ 0.9922,  0.9922,  0.9922,  0.9922,  0.9294,  0.3647, -0.6235,\n",
            "          -0.9843, -0.9922, -0.9922, -0.9843, -0.9922, -0.9922, -0.9922,\n",
            "          -0.7882,  0.3333,  0.9686,  0.9765,  0.8902,  0.2471, -0.7725,\n",
            "          -0.9922, -0.9765, -0.6863,  0.3098,  0.9373,  0.9765,  0.9843],\n",
            "         [ 1.0000,  0.9922,  0.9922,  0.9922,  0.9294,  0.4745, -0.5451,\n",
            "          -0.9765, -0.9843, -0.9922, -0.9922, -0.9765, -0.8353, -0.7882,\n",
            "          -0.6000,  0.4510,  0.9686,  0.9765,  0.9765,  0.7647,  0.0196,\n",
            "          -0.7255, -0.9686, -0.9294, -0.4196,  0.5843,  0.9765,  0.9922],\n",
            "         [ 1.0000,  0.9922,  0.9922,  0.9843,  0.9843,  0.7569, -0.3725,\n",
            "          -0.9843, -0.9922, -0.9922, -0.9451, -0.5843,  0.1059, -0.0667,\n",
            "           0.0980,  0.8745,  0.9765,  0.9765,  0.9765,  0.9765,  0.8196,\n",
            "          -0.0353, -0.9137, -0.9843, -0.8510, -0.0353,  0.7882,  0.9843],\n",
            "         [ 0.9922,  1.0000,  0.9922,  0.9765,  0.9529,  0.6078, -0.4667,\n",
            "          -0.9843, -0.9843, -0.9686, -0.5451,  0.4510,  0.8824,  0.6549,\n",
            "           0.7098,  0.9686,  0.9608,  0.9765,  0.9765,  0.9686,  0.9137,\n",
            "           0.1137, -0.8980, -0.9843, -0.9686, -0.6392,  0.5294,  0.9843],\n",
            "         [ 0.9922,  0.9922,  0.9922,  0.9765,  0.8039, -0.1216, -0.8824,\n",
            "          -0.9922, -0.9922, -0.9294, -0.2784,  0.8196,  0.9843,  0.9765,\n",
            "           0.9843,  0.9843,  0.9765,  0.9765,  0.9843,  0.9843,  0.9294,\n",
            "           0.3725, -0.5922, -0.9765, -0.9843, -0.7882,  0.1137,  0.8353],\n",
            "         [ 0.9843,  0.9686,  0.9843,  0.8902,  0.2157, -0.7020, -0.9765,\n",
            "          -0.9843, -0.9608, -0.6078,  0.3647,  0.9294,  0.9922,  0.9843,\n",
            "           0.9843,  0.9922,  0.9922,  0.9922,  0.9843,  0.9843,  0.9765,\n",
            "           0.8588,  0.0510, -0.8275, -0.9922, -0.9608, -0.5373,  0.6000],\n",
            "         [ 0.9843,  0.9765,  0.9765,  0.8431, -0.1373, -0.9529, -0.9922,\n",
            "          -0.9843, -0.8039, -0.0353,  0.8353,  0.9843,  0.9765,  0.9922,\n",
            "           0.9922,  0.9922,  0.9922,  0.9922,  0.9843,  0.9765,  0.9843,\n",
            "           0.9294,  0.3725, -0.5843, -0.9843, -0.9843, -0.5765,  0.5843],\n",
            "         [ 0.9843,  0.9843,  0.9686,  0.7490, -0.2314, -0.9529, -0.9843,\n",
            "          -0.9765, -0.5373,  0.6235,  0.9765,  0.9843,  0.9765,  0.9922,\n",
            "           0.9922,  0.9922,  0.9922,  0.9922,  0.9843,  0.9765,  0.9843,\n",
            "           0.8667, -0.0196, -0.8980, -0.9843, -0.9765, -0.5608,  0.6000],\n",
            "         [ 0.9843,  0.9843,  0.9059,  0.1686, -0.7647, -0.9843, -0.9765,\n",
            "          -0.8588, -0.1686,  0.7882,  0.9843,  0.9843,  0.9843,  0.9922,\n",
            "           0.9922,  0.9922,  0.9922,  0.9922,  0.9922,  0.9843,  0.9843,\n",
            "           0.8667, -0.0588, -0.9373, -0.9843, -0.9765, -0.6627,  0.2157],\n",
            "         [ 0.9843,  0.9765,  0.8039, -0.1059, -0.9373, -0.9922, -0.9843,\n",
            "          -0.6314,  0.5216,  0.9608,  0.9843,  0.9843,  0.9922,  0.9922,\n",
            "           0.9843,  0.9843,  0.9922,  0.9922,  0.9922,  0.9843,  0.9843,\n",
            "           0.8667, -0.0667, -0.9373, -0.9843, -0.9843, -0.9059, -0.6078],\n",
            "         [ 0.9843,  0.9294,  0.2863, -0.7020, -0.9765, -0.9843, -0.9765,\n",
            "          -0.5765,  0.6078,  0.9843,  0.9765,  0.9843,  0.9922,  0.9922,\n",
            "           0.9922,  0.9922,  0.9922,  0.9922,  0.9843,  0.9843,  0.9608,\n",
            "           0.6471, -0.2863, -0.9451, -1.0000, -0.9922, -0.9451, -0.7176],\n",
            "         [ 0.9843,  0.8980,  0.0745, -0.9059, -0.9922, -0.9843, -0.8118,\n",
            "          -0.0275,  0.7961,  0.9843,  0.9765,  0.9843,  1.0000,  0.9922,\n",
            "           0.9922,  0.9922,  0.9922,  0.9922,  0.9922,  0.9843,  0.9137,\n",
            "           0.1451, -0.8196, -0.9686, -0.9843, -0.9922, -0.9137, -0.6078],\n",
            "         [ 1.0000,  0.8980,  0.0745, -0.9059, -0.9922, -0.9843, -0.6314,\n",
            "           0.5059,  0.9765,  0.9843,  0.9843,  0.9843,  0.9922,  0.9922,\n",
            "           0.9922,  0.9922,  0.9922,  0.9922,  0.9922,  0.9843,  0.9059,\n",
            "           0.0667, -0.9059, -0.9843, -0.9922, -0.9765, -0.6549,  0.2392],\n",
            "         [ 1.0000,  0.8980,  0.0667, -0.9059, -0.9922, -0.9843, -0.6392,\n",
            "           0.5216,  0.9843,  0.9843,  0.9765,  0.9843,  0.9922,  0.9922,\n",
            "           0.9922,  0.9922,  0.9922,  0.9922,  0.9843,  0.9843,  0.8980,\n",
            "           0.0588, -0.9137, -0.9922, -0.9922, -0.9686, -0.5529,  0.5843],\n",
            "         [ 0.9922,  0.8980,  0.0745, -0.9059, -0.9922, -0.9765, -0.6314,\n",
            "           0.5137,  0.9765,  0.9922,  0.9843,  0.9843,  0.9922,  0.9922,\n",
            "           0.9922,  0.9922,  0.9922,  0.9922,  0.9922,  0.9922,  0.8902,\n",
            "           0.0353, -0.9137, -0.9765, -0.9843, -0.9059, -0.3333,  0.6706],\n",
            "         [ 0.9922,  0.9059,  0.1137, -0.8588, -0.9922, -0.9922, -0.7961,\n",
            "           0.0667,  0.8353,  0.9765,  0.9922,  0.9843,  0.9922,  0.9922,\n",
            "           0.9922,  0.9922,  0.9922,  0.9922,  0.9922,  0.9922,  0.8824,\n",
            "           0.0196, -0.9137, -0.9843, -0.9765, -0.6627,  0.3961,  0.9373],\n",
            "         [ 0.9843,  0.9529,  0.5843, -0.3412, -0.9529, -0.9922, -0.9686,\n",
            "          -0.5922,  0.3490,  0.6314,  0.7725,  0.9529,  0.9765,  0.9765,\n",
            "           0.9765,  0.9686,  0.9686,  0.9686,  0.9686,  0.9608,  0.7647,\n",
            "          -0.1373, -0.9294, -0.9922, -0.9294, -0.4431,  0.6235,  0.9843],\n",
            "         [ 0.9765,  0.9843,  0.9059,  0.2706, -0.6627, -0.9843, -0.9922,\n",
            "          -0.9216, -0.7333, -0.6392, -0.3176,  0.1843,  0.2314,  0.2235,\n",
            "           0.2392,  0.2314,  0.2314,  0.2392,  0.2314,  0.2000, -0.1451,\n",
            "          -0.7725, -0.9843, -0.9922, -0.7412,  0.2784,  0.9137,  0.9843],\n",
            "         [ 0.9843,  0.9843,  0.9765,  0.7725, -0.1137, -0.8667, -0.9922,\n",
            "          -0.9922, -0.9843, -0.9686, -0.9529, -0.8745, -0.8745, -0.8824,\n",
            "          -0.8745, -0.8745, -0.8745, -0.8667, -0.8667, -0.8824, -0.9294,\n",
            "          -0.9843, -0.9922, -0.9765, -0.6863,  0.4353,  0.9765,  0.9843],\n",
            "         [ 0.9686,  0.9843,  0.9765,  0.9373,  0.6392, -0.1137, -0.7647,\n",
            "          -0.9373, -0.9686, -0.9765, -0.9843, -0.9843, -0.9922, -0.9922,\n",
            "          -0.9922, -0.9843, -0.9922, -0.9922, -0.9843, -0.9608, -0.9216,\n",
            "          -0.9059, -0.8667, -0.5451, -0.1216,  0.6157,  0.9765,  0.9922],\n",
            "         [ 0.9765,  0.9843,  0.9843,  0.9765,  0.9686,  0.7569,  0.2392,\n",
            "          -0.2078, -0.8118, -0.9922, -0.9843, -0.9922, -0.9922, -1.0000,\n",
            "          -0.9922, -0.9843, -0.9922, -0.9922, -0.9765, -0.6314, -0.0118,\n",
            "           0.0510,  0.0980,  0.5137,  0.8510,  0.9294,  0.9922,  0.9922]]]), 0)\n",
            "Trainig Samples:  30688\n"
          ],
          "name": "stdout"
        }
      ]
    },
    {
      "cell_type": "markdown",
      "metadata": {
        "id": "TkcO6kypWdrz"
      },
      "source": [
        "#Hyper Parameter\r\n",
        "\r\n",
        "\r\n",
        "*  **Epochs:**\r\n",
        "One Epoch is when an entire dataset is passed forward and backward through the neural network only once.\r\n",
        "*  **Batch Size:**\r\n",
        "Total number of training examples present in a single batch.\r\n",
        "\r\n",
        "*  **Iterations:** Iterations is the number of batches needed to complete one epoch.\r\n",
        "\r\n",
        "\r\n",
        "* **Learning Rate:** The amount that the weights are updated during training is referred to as the step size or the “learning rate.”\r\n",
        "\r\n",
        "\r\n",
        "\r\n",
        "\r\n",
        "\r\n",
        "\r\n",
        "\r\n",
        "\r\n",
        "\r\n"
      ]
    },
    {
      "cell_type": "markdown",
      "metadata": {
        "id": "2D3VRc3c4LXX"
      },
      "source": [
        "# **Hyper Parameter Tuning**\r\n",
        "\r\n",
        "\r\n",
        "\r\n"
      ]
    },
    {
      "cell_type": "markdown",
      "metadata": {
        "id": "flAK06JN4sem"
      },
      "source": [
        "##Case 01\r\n",
        "First I randomly took  **batch size**,**iteration** and **learning rate** in accordance of **150,7000,0.04**.As the number of batch sizes is small I took a comparatively large learning rate and decide to give a larger iteration number as comparatively less batch size was used. The length of the dataset was 30688. So,\r\n",
        "\r\n",
        "> $epoch$ $number = (7000*150)/30688 = 34 epoches$\r\n",
        "\r\n",
        "\r\n",
        "> After Implementing logistic Regression found **51.85%** accuracy with this setting.\r\n",
        "\r\n",
        "\r\n",
        "\r\n",
        "\r\n",
        "           \r\n",
        "\r\n"
      ]
    },
    {
      "cell_type": "code",
      "metadata": {
        "id": "fZ971WP95Z-k"
      },
      "source": [
        "#setting hpt 1\n",
        "#case01\n",
        "#hyperParameter4\n",
        "#batch size\n",
        "batch_size = 150\n",
        "num_iters = 7000\n",
        "input_dim = 28*28 # num_features = 784\n",
        "output_dim = 2\n",
        "\n",
        "learning_rate = 0.04\n",
        "\n",
        "# Device\n",
        "device = torch.device(\"cuda:0\" if torch.cuda.is_available() else \"cpu\")\n",
        "#device = torch.device('cuda')"
      ],
      "execution_count": null,
      "outputs": []
    },
    {
      "cell_type": "markdown",
      "metadata": {
        "id": "X3LAqrm2CfE0"
      },
      "source": [
        "##Case 02\r\n",
        "After getting less accuracy I changed the  **batch size**,**iteration**, and **learning rate** in accordance with **400,3000 and 0.0004**. I increased the batch size so took a comparatively small learning rate and decide to give a smaller iteration number as a comparatively large batch size used. The length of the dataset was 30688. So,\r\n",
        "\r\n",
        "> $epoch$ $number = (3000*400)/30688 = 39 epoches$\r\n",
        "\r\n",
        "\r\n",
        ">  After Implementing logistic Regression found **57.36%** accuracy with this setting.\r\n",
        "\r\n"
      ]
    },
    {
      "cell_type": "code",
      "metadata": {
        "id": "k6F1HJkM5Z-j"
      },
      "source": [
        "#setting hpt 2\n",
        "#case2\n",
        "#hyperParameter1\n",
        "#batch size\n",
        "batch_size = 400\n",
        "num_iters = 3000\n",
        "input_dim = 28*28 # num_features = 784\n",
        "output_dim = 2\n",
        "\n",
        "learning_rate = 0.0004\n",
        "\n",
        "# Device\n",
        "device = torch.device(\"cuda:0\" if torch.cuda.is_available() else \"cpu\")\n",
        "#device = torch.device('cuda')"
      ],
      "execution_count": null,
      "outputs": []
    },
    {
      "cell_type": "markdown",
      "metadata": {
        "id": "TR0C04RhDWyj"
      },
      "source": [
        "##Case 03\r\n",
        "After getting better accuracy in setting 2, for more accurate prediction changed the settings again.So I took **batch size**,**iteration** and **learning rate** in accordance of **200,4000 and 0.003**.I decreased the batch size so took a comparatively larger learning rate and decide to give a larger iteration number as a comparatively smaller batch size used. The length of the dataset was 30688. So,\r\n",
        "\r\n",
        "> $epoch$ $number = (4000*200)/30688 = 26 epoches$\r\n",
        "\r\n",
        ">  After Implementing logistic Regression found **58.01%** accuracy with this setting.\r\n",
        "\r\n"
      ]
    },
    {
      "cell_type": "code",
      "metadata": {
        "id": "Auz3q9gM5Z-j"
      },
      "source": [
        "#setting hpt 3\n",
        "#case3\n",
        "#hyperParameter3\n",
        "#batch size\n",
        "batch_size = 200\n",
        "num_iters = 4000\n",
        "input_dim = 28*28 # num_features = 784\n",
        "output_dim = 2\n",
        "\n",
        "learning_rate = 0.003\n",
        "\n",
        "# Device\n",
        "device = torch.device(\"cuda:0\" if torch.cuda.is_available() else \"cpu\")\n",
        "#device = torch.device('cuda')"
      ],
      "execution_count": null,
      "outputs": []
    },
    {
      "cell_type": "markdown",
      "metadata": {
        "id": "qJ6fSyA-GS5v"
      },
      "source": [
        "##Case 04\r\n",
        "After getting a good accuracy in setting 3, for more accurate prediction changed the settings again.So I took **batch size**,**iteration** and **learning rate** in accordance of **256,6500 and 0.0041**.I increased the batch size a little bit so took a comparatively larger learning rate as a test if any improvement may see with a larger learning rate and decide to gave a little bigger iteration number.The length of the dataset was 30688. So,\r\n",
        "\r\n",
        "> $epoch$ $number = (6500*256)/30688 = 54 epoches$\r\n",
        "\r\n",
        ">  After Implementing logistic Regression found **59.81%** accuracy with this setting."
      ]
    },
    {
      "cell_type": "code",
      "metadata": {
        "id": "d2oi8ROijeoA"
      },
      "source": [
        "#setting hpt 4\r\n",
        "#case4\r\n",
        "#hyperParameter5\r\n",
        "batch_size = 256\r\n",
        "num_iters = 6500\r\n",
        "input_dim = 28*28 # num_features = 784\r\n",
        "output_dim = 2\r\n",
        "\r\n",
        "learning_rate = 0.0041\r\n",
        "\r\n",
        "# Device\r\n",
        "device = torch.device(\"cuda:0\" if torch.cuda.is_available() else \"cpu\")\r\n",
        "#device = torch.device('cuda')"
      ],
      "execution_count": null,
      "outputs": []
    },
    {
      "cell_type": "markdown",
      "metadata": {
        "id": "hN6RJUBNGjNc"
      },
      "source": [
        "##Case 05\r\n",
        "After getting better accuracy in setting 4, for more accurate prediction changed the settings again.So I took **batch size**,**iteration** and **learning rate** in accordance of **256,5000 and 0.00004**.I did not change the batch size but took a comparatively very smaller learning rate and decide to give a little smaller iteration number than the previous setting.The length of the dataset was 30688. So,\r\n",
        "\r\n",
        "> $epoch$ $number = (256*4000)/30688 = 41 epoches$\r\n",
        "\r\n",
        ">  After Implementing logistic Regression found **60.20%** accuracy with this setting."
      ]
    },
    {
      "cell_type": "code",
      "metadata": {
        "id": "YI9yvUMc-89K"
      },
      "source": [
        "#setting hpt 5\n",
        "#case5\n",
        "#hyperParameter7\n",
        "#batch size\n",
        "batch_size = 256\n",
        "num_iters = 5000\n",
        "input_dim = 28*28 # num_features = 784\n",
        "output_dim = 2\n",
        "\n",
        "learning_rate = 0.00004\n",
        "\n",
        "# Device\n",
        "device = torch.device(\"cuda:0\" if torch.cuda.is_available() else \"cpu\")\n",
        "#device = torch.device('cuda')"
      ],
      "execution_count": null,
      "outputs": []
    },
    {
      "cell_type": "markdown",
      "metadata": {
        "id": "Fs2HErPEWn_R"
      },
      "source": [
        "**Sending data to train and test loader**"
      ]
    },
    {
      "cell_type": "code",
      "metadata": {
        "id": "cN3ZI8gS5Z-k"
      },
      "source": [
        "\n",
        "\n",
        "# split data 20% for testing\n",
        "test_size = 0.1\n",
        "train_data[0]\n",
        "# obtain training indices that will be used for validation\n",
        "num_train = len(train_data)\n",
        "\n",
        "# mix data\n",
        "# index of num of train\n",
        "indices = list(range(num_train))\n",
        "#print(indices)\n",
        "# random the index\n",
        "np.random.shuffle(indices)\n",
        "split = int(np.floor(test_size * num_train))\n",
        "#print(split)\n",
        "# divied into two part\n",
        "train_idx, test_idx = indices[split:], indices[:split]\n",
        "#print(train_idx)\n",
        "#print(test_idx)\n",
        "\n",
        "# define the sampler\n",
        "train_sampler = SubsetRandomSampler(train_idx)\n",
        "test_sampler = SubsetRandomSampler(test_idx)\n",
        "#print(train_sampler)\n",
        "#print(test_sampler)\n",
        "# prepare loaders\n",
        "train_loader = torch.utils.data.DataLoader(\n",
        "    train_data, batch_size=batch_size,\n",
        "    sampler=train_sampler)\n",
        "\n",
        "test_loader = torch.utils.data.DataLoader(\n",
        "    test_data, batch_size=batch_size,\n",
        "    sampler=test_sampler)\n",
        "\n",
        "#print(\"Train dataloader:{}\".format(len(train_loader)))\n",
        "#print(\"Test dataloader:{}\".format(len(test_loader)))"
      ],
      "execution_count": null,
      "outputs": []
    },
    {
      "cell_type": "code",
      "metadata": {
        "id": "QEobZU1O5Z-k"
      },
      "source": [
        "num_epochs = num_iters / (len(train_data) / batch_size)\n",
        "num_epochs = int(num_epochs)\n"
      ],
      "execution_count": null,
      "outputs": []
    },
    {
      "cell_type": "code",
      "metadata": {
        "id": "wwyhoOCG5Z-k",
        "colab": {
          "base_uri": "https://localhost:8080/"
        },
        "outputId": "fd9e7118-c715-47df-fe29-2097d17d0bb6"
      },
      "source": [
        "print(num_epochs)"
      ],
      "execution_count": null,
      "outputs": [
        {
          "output_type": "stream",
          "text": [
            "40\n"
          ],
          "name": "stdout"
        }
      ]
    },
    {
      "cell_type": "code",
      "metadata": {
        "id": "NJLT-1DJ5Z-k",
        "colab": {
          "base_uri": "https://localhost:8080/"
        },
        "outputId": "8e2587f5-374a-48ab-c480-9eb710d22beb"
      },
      "source": [
        "print(len(train_idx))\n",
        "print(len(test_idx))"
      ],
      "execution_count": null,
      "outputs": [
        {
          "output_type": "stream",
          "text": [
            "27620\n",
            "3068\n"
          ],
          "name": "stdout"
        }
      ]
    },
    {
      "cell_type": "code",
      "metadata": {
        "id": "ns2VCfw15Z-l",
        "colab": {
          "base_uri": "https://localhost:8080/",
          "height": 282
        },
        "outputId": "a0d9903a-15bf-4e30-94ef-d1ce8b4354a6"
      },
      "source": [
        "## Displaying a MNIST Image\n",
        "\n",
        "import matplotlib.pyplot as plt \n",
        "import numpy as np\n",
        "\n",
        "show_img = train_data[0][0].numpy().reshape(28, 28)\n",
        "plt.imshow(show_img, cmap='gray')"
      ],
      "execution_count": null,
      "outputs": [
        {
          "output_type": "execute_result",
          "data": {
            "text/plain": [
              "<matplotlib.image.AxesImage at 0x7fb06b7c1ba8>"
            ]
          },
          "metadata": {
            "tags": []
          },
          "execution_count": 21
        },
        {
          "output_type": "display_data",
          "data": {
            "image/png": "[encoded data removed]",
            "text/plain": [
              "<Figure size 432x288 with 1 Axes>"
            ]
          },
          "metadata": {
            "tags": [],
            "needs_background": "light"
          }
        }
      ]
    },
    {
      "cell_type": "code",
      "metadata": {
        "id": "fWHIeyvB5Z-l",
        "colab": {
          "base_uri": "https://localhost:8080/",
          "height": 315
        },
        "outputId": "94e97af1-3e5c-4753-c6fc-b7347bec8363"
      },
      "source": [
        "## Displaying another MNIST Image\n",
        "# Label\n",
        "print(\"Label:\")\n",
        "print(train_data[2][1])\n",
        "\n",
        "show_img = train_data[2][0].numpy().reshape(28, 28)\n",
        "plt.imshow(show_img, cmap='gray')"
      ],
      "execution_count": null,
      "outputs": [
        {
          "output_type": "stream",
          "text": [
            "Label:\n",
            "0\n"
          ],
          "name": "stdout"
        },
        {
          "output_type": "execute_result",
          "data": {
            "text/plain": [
              "<matplotlib.image.AxesImage at 0x7fb06b76e550>"
            ]
          },
          "metadata": {
            "tags": []
          },
          "execution_count": 22
        },
        {
          "output_type": "display_data",
          "data": {
            "image/png": "[encoded data removed]",
            "text/plain": [
              "<Figure size 432x288 with 1 Axes>"
            ]
          },
          "metadata": {
            "tags": [],
            "needs_background": "light"
          }
        }
      ]
    },
    {
      "cell_type": "code",
      "metadata": {
        "id": "0uMVW1E75Z-l",
        "colab": {
          "base_uri": "https://localhost:8080/"
        },
        "outputId": "70d72575-b240-4b38-f8ed-2928bdbde251"
      },
      "source": [
        "# One Image Size\n",
        "print(train_data[0][0].size())\n",
        "print(train_data[0][0].numpy().shape)\n",
        "# First Image Label\n",
        "print(train_data[59][1])"
      ],
      "execution_count": null,
      "outputs": [
        {
          "output_type": "stream",
          "text": [
            "torch.Size([1, 28, 28])\n",
            "(1, 28, 28)\n",
            "0\n"
          ],
          "name": "stdout"
        }
      ]
    },
    {
      "cell_type": "markdown",
      "metadata": {
        "id": "zyeC9qZ4OY6s"
      },
      "source": [
        "# Logistic Regression"
      ]
    },
    {
      "cell_type": "markdown",
      "metadata": {
        "id": "1Z10nZhf7BH1"
      },
      "source": [
        "Logistic Regression is an example of a classification algorithm which is used to find a relationship between features and the probability of a particular outcome. The term “Logistic” is taken from the Logit function that is used in this method of classification. Instead of fitting a straight line or hyperplane, the logistic regression model uses the logistic function to squeeze the output of a linear equation between 0 and 1. The logistic function is defined as:\r\n",
        "\r\n",
        "$logistic(η)=\\frac{1}{1+exp(−η)}$"
      ]
    },
    {
      "cell_type": "code",
      "metadata": {
        "id": "0nFa6R5s5Z-m"
      },
      "source": [
        "class LogisticRegressionModel(nn.Module):\n",
        "    def __init__(self, input_size, num_classes):\n",
        "        super().__init__()\n",
        "        self.linear = nn.Linear(input_size, num_classes)\n",
        "\n",
        "    def forward(self, x):\n",
        "        logits  = self.linear(x)\n",
        "        probas = torch.sigmoid(logits)\n",
        "        return logits, probas\n",
        "        #return logits"
      ],
      "execution_count": null,
      "outputs": []
    },
    {
      "cell_type": "code",
      "metadata": {
        "id": "p4ieDAyY5Z-m",
        "colab": {
          "base_uri": "https://localhost:8080/"
        },
        "outputId": "5edcf1af-98ab-42dc-aa63-fc3b4723dd65"
      },
      "source": [
        "'''\n",
        "INSTANTIATE MODEL CLASS\n",
        "'''\n",
        "model = LogisticRegressionModel(input_size=input_dim,\n",
        "                                num_classes=output_dim)\n",
        "\n",
        "# To enable GPU\n",
        "model.to(device)"
      ],
      "execution_count": null,
      "outputs": [
        {
          "output_type": "execute_result",
          "data": {
            "text/plain": [
              "LogisticRegressionModel(\n",
              "  (linear): Linear(in_features=784, out_features=2, bias=True)\n",
              ")"
            ]
          },
          "metadata": {
            "tags": []
          },
          "execution_count": 49
        }
      ]
    },
    {
      "cell_type": "markdown",
      "metadata": {
        "id": "HLVu7U8giICX"
      },
      "source": [
        "**For optimizer I used Adam**\r\n",
        "\r\n",
        "The Adam optimization algorithm is an extension to stochastic gradient descent that has recently seen broader adoption for deep learning applications in computer vision and natural language processing."
      ]
    },
    {
      "cell_type": "code",
      "metadata": {
        "id": "wSQYTigI5Z-m",
        "colab": {
          "base_uri": "https://localhost:8080/"
        },
        "outputId": "31fe691e-daa4-421e-e5df-fc62084bed9d"
      },
      "source": [
        "# INSTANTIATE OPTIMIZER CLASS\n",
        "optimizer = torch.optim.Adam(model.parameters(), lr=learning_rate)\n",
        "train_data[18][0].numpy().shape"
      ],
      "execution_count": null,
      "outputs": [
        {
          "output_type": "execute_result",
          "data": {
            "text/plain": [
              "(1, 28, 28)"
            ]
          },
          "metadata": {
            "tags": []
          },
          "execution_count": 50
        }
      ]
    },
    {
      "cell_type": "code",
      "metadata": {
        "id": "WwZyf74i5Z-o",
        "colab": {
          "base_uri": "https://localhost:8080/"
        },
        "outputId": "4d27d219-a7e6-4679-dc8e-f9b4752578d5"
      },
      "source": [
        "#settng1\n",
        "#setting4\n",
        "'''\n",
        "TRAIN THE MODEL\n",
        "'''\n",
        "iteration_loss = []\n",
        "iter = 0\n",
        "for epoch in range(num_epochs):\n",
        "    for i, (images, labels) in enumerate(train_loader):\n",
        "\n",
        "        images = images.view(-1, 28*28).to(device)\n",
        "        labels = labels.to(device)\n",
        "\n",
        "        # Clear gradients w.r.t. parameters\n",
        "        optimizer.zero_grad()\n",
        "\n",
        "        # Forward pass to get output/logits\n",
        "        logits, probas = model(images) \n",
        "\n",
        "        # Calculate Loss: PyTorch implementation of CrossEntropyLoss works with logits, not probabilities\n",
        "        loss = F.cross_entropy(logits, labels)\n",
        "\n",
        "        # Getting gradients w.r.t. parameters\n",
        "        loss.backward()\n",
        "\n",
        "        # Updating parameters\n",
        "        optimizer.step()\n",
        "\n",
        "        iter += 1\n",
        "\n",
        "        if iter % 500 == 0:\n",
        "            # Calculate Accuracy         \n",
        "            correct = 0\n",
        "            total = 0\n",
        "            # Iterate through test dataset\n",
        "            for images, labels in test_loader:\n",
        "               \n",
        "                images = images.view(-1, 28*28).to(device)\n",
        "\n",
        "                # Forward pass only to get logits/output\n",
        "                logits, probas = model(images)\n",
        "\n",
        "                # Get predictions from the maximum value\n",
        "                _, predicted = torch.max(probas, 1)\n",
        "\n",
        "                # Total number of labels\n",
        "                total += labels.size(0)\n",
        "\n",
        "\n",
        "                # Total correct predictions\n",
        "                if torch.cuda.is_available():\n",
        "                    correct += (predicted.cpu() == labels.cpu()).sum() \n",
        "                else:\n",
        "                    correct += (predicted == labels).sum()\n",
        "\n",
        "            accuracy = 100 * correct.item() / total\n",
        "\n",
        "            # Print Loss\n",
        "            iteration_loss.append(loss.item())\n",
        "            print('Iteration: {}. Loss: {}. Accuracy: {}'.format(iter, loss.item(), accuracy))"
      ],
      "execution_count": null,
      "outputs": [
        {
          "output_type": "stream",
          "text": [
            "Iteration: 500. Loss: 1.499453067779541. Accuracy: 56.45371577574967\n",
            "Iteration: 1000. Loss: 0.8832951784133911. Accuracy: 53.617992177314214\n",
            "Iteration: 2000. Loss: 0.713193416595459. Accuracy: 55.50847457627118\n",
            "Iteration: 2500. Loss: 1.0147916078567505. Accuracy: 54.204693611473274\n",
            "Iteration: 3000. Loss: 0.8562780022621155. Accuracy: 53.0638852672751\n",
            "Iteration: 3500. Loss: 0.8442702889442444. Accuracy: 53.8787483702738\n",
            "Iteration: 4000. Loss: 1.6228183507919312. Accuracy: 52.3142112125163\n",
            "Iteration: 4500. Loss: 0.9498113989830017. Accuracy: 54.628422425032596\n",
            "Iteration: 5000. Loss: 0.9111449122428894. Accuracy: 51.40156453715776\n",
            "Iteration: 5500. Loss: 1.2462478876113892. Accuracy: 53.84615384615385\n",
            "Iteration: 6000. Loss: 1.1169241666793823. Accuracy: 51.857887874837026\n"
          ],
          "name": "stdout"
        }
      ]
    },
    {
      "cell_type": "code",
      "metadata": {
        "id": "aPaIcF-d5Z-n",
        "colab": {
          "base_uri": "https://localhost:8080/"
        },
        "outputId": "06d56a48-b29a-4395-b2de-03afa51ca153"
      },
      "source": [
        "#settng2\n",
        "#setting1\n",
        "'''\n",
        "TRAIN THE MODEL\n",
        "'''\n",
        "iteration_loss = []\n",
        "iter = 0\n",
        "for epoch in range(num_epochs):\n",
        "    for i, (images, labels) in enumerate(train_loader):\n",
        "\n",
        "        images = images.view(-1, 28*28).to(device)\n",
        "        labels = labels.to(device)\n",
        "\n",
        "        # Clear gradients w.r.t. parameters\n",
        "        optimizer.zero_grad()\n",
        "\n",
        "        # Forward pass to get output/logits\n",
        "        logits, probas = model(images) \n",
        "\n",
        "        # Calculate Loss: PyTorch implementation of CrossEntropyLoss works with logits, not probabilities\n",
        "        loss = F.cross_entropy(logits, labels)\n",
        "\n",
        "        # Getting gradients w.r.t. parameters\n",
        "        loss.backward()\n",
        "\n",
        "        # Updating parameters\n",
        "        optimizer.step()\n",
        "\n",
        "        iter += 1\n",
        "\n",
        "        if iter % 500 == 0:\n",
        "            # Calculate Accuracy         \n",
        "            correct = 0\n",
        "            total = 0\n",
        "            # Iterate through test dataset\n",
        "            for images, labels in test_loader:\n",
        "               \n",
        "                images = images.view(-1, 28*28).to(device)\n",
        "\n",
        "                # Forward pass only to get logits/output\n",
        "                logits, probas = model(images)\n",
        "\n",
        "                # Get predictions from the maximum value\n",
        "                _, predicted = torch.max(probas, 1)\n",
        "\n",
        "                # Total number of labels\n",
        "                total += labels.size(0)\n",
        "\n",
        "\n",
        "                # Total correct predictions\n",
        "                if torch.cuda.is_available():\n",
        "                    correct += (predicted.cpu() == labels.cpu()).sum() \n",
        "                else:\n",
        "                    correct += (predicted == labels).sum()\n",
        "\n",
        "            accuracy = 100 * correct.item() / total\n",
        "\n",
        "            # Print Loss\n",
        "            iteration_loss.append(loss.item())\n",
        "            print('Iteration: {}. Loss: {}. Accuracy: {}'.format(iter, loss.item(), accuracy))"
      ],
      "execution_count": null,
      "outputs": [
        {
          "output_type": "stream",
          "text": [
            "Iteration: 500. Loss: 0.6708400249481201. Accuracy: 57.65971316818774\n",
            "Iteration: 1000. Loss: 0.648911714553833. Accuracy: 57.17079530638853\n",
            "Iteration: 1500. Loss: 0.660564661026001. Accuracy: 58.14863102998696\n",
            "Iteration: 2000. Loss: 0.6440963745117188. Accuracy: 58.57235984354629\n",
            "Iteration: 2500. Loss: 0.6662710309028625. Accuracy: 57.366362451108216\n"
          ],
          "name": "stdout"
        }
      ]
    },
    {
      "cell_type": "code",
      "metadata": {
        "id": "2RHu9j605Z-o",
        "colab": {
          "base_uri": "https://localhost:8080/"
        },
        "outputId": "1ac35e8f-d033-4ded-fa9f-e823e840cf2f"
      },
      "source": [
        "#settng3\n",
        "#setting3\n",
        "'''\n",
        "TRAIN THE MODEL\n",
        "'''\n",
        "iteration_loss = []\n",
        "iter = 0\n",
        "for epoch in range(num_epochs):\n",
        "    for i, (images, labels) in enumerate(train_loader):\n",
        "\n",
        "        images = images.view(-1, 28*28).to(device)\n",
        "        labels = labels.to(device)\n",
        "\n",
        "        # Clear gradients w.r.t. parameters\n",
        "        optimizer.zero_grad()\n",
        "\n",
        "        # Forward pass to get output/logits\n",
        "        logits, probas = model(images) \n",
        "\n",
        "        # Calculate Loss: PyTorch implementation of CrossEntropyLoss works with logits, not probabilities\n",
        "        loss = F.cross_entropy(logits, labels)\n",
        "\n",
        "        # Getting gradients w.r.t. parameters\n",
        "        loss.backward()\n",
        "\n",
        "        # Updating parameters\n",
        "        optimizer.step()\n",
        "\n",
        "        iter += 1\n",
        "\n",
        "        if iter % 500 == 0:\n",
        "            # Calculate Accuracy         \n",
        "            correct = 0\n",
        "            total = 0\n",
        "            # Iterate through test dataset\n",
        "            for images, labels in test_loader:\n",
        "               \n",
        "                images = images.view(-1, 28*28).to(device)\n",
        "\n",
        "                # Forward pass only to get logits/output\n",
        "                logits, probas = model(images)\n",
        "\n",
        "                # Get predictions from the maximum value\n",
        "                _, predicted = torch.max(probas, 1)\n",
        "\n",
        "                # Total number of labels\n",
        "                total += labels.size(0)\n",
        "\n",
        "\n",
        "                # Total correct predictions\n",
        "                if torch.cuda.is_available():\n",
        "                    correct += (predicted.cpu() == labels.cpu()).sum() \n",
        "                else:\n",
        "                    correct += (predicted == labels).sum()\n",
        "\n",
        "            accuracy = 100 * correct.item() / total\n",
        "\n",
        "            # Print Loss\n",
        "            iteration_loss.append(loss.item())\n",
        "            print('Iteration: {}. Loss: {}. Accuracy: {}'.format(iter, loss.item(), accuracy))"
      ],
      "execution_count": null,
      "outputs": [
        {
          "output_type": "stream",
          "text": [
            "Iteration: 500. Loss: 0.681424617767334. Accuracy: 58.18122555410691\n",
            "Iteration: 1000. Loss: 0.701723575592041. Accuracy: 57.72490221642764\n",
            "Iteration: 1500. Loss: 0.6718512177467346. Accuracy: 58.57235984354629\n",
            "Iteration: 2000. Loss: 0.6809971332550049. Accuracy: 58.507170795306386\n",
            "Iteration: 2500. Loss: 0.6734543442726135. Accuracy: 58.93089960886571\n",
            "Iteration: 3000. Loss: 0.6425724625587463. Accuracy: 57.23598435462842\n",
            "Iteration: 3500. Loss: 0.6766534447669983. Accuracy: 58.01825293350717\n"
          ],
          "name": "stdout"
        }
      ]
    },
    {
      "cell_type": "code",
      "metadata": {
        "colab": {
          "base_uri": "https://localhost:8080/"
        },
        "id": "h9zFpzEUjIrv",
        "outputId": "bed8a785-c943-403a-be46-390196ee5684"
      },
      "source": [
        "#settng4\r\n",
        "#SETTING5\r\n",
        "'''\r\n",
        "TRAIN THE MODEL\r\n",
        "'''\r\n",
        "iteration_loss = []\r\n",
        "iter = 0\r\n",
        "for epoch in range(num_epochs):\r\n",
        "    for i, (images, labels) in enumerate(train_loader):\r\n",
        "\r\n",
        "        images = images.view(-1, 28*28).to(device)\r\n",
        "        labels = labels.to(device)\r\n",
        "\r\n",
        "        # Clear gradients w.r.t. parameters\r\n",
        "        optimizer.zero_grad()\r\n",
        "\r\n",
        "        # Forward pass to get output/logits\r\n",
        "        logits, probas = model(images) \r\n",
        "\r\n",
        "        # Calculate Loss: PyTorch implementation of CrossEntropyLoss works with logits, not probabilities\r\n",
        "        loss = F.cross_entropy(logits, labels)\r\n",
        "\r\n",
        "        # Getting gradients w.r.t. parameters\r\n",
        "        loss.backward()\r\n",
        "\r\n",
        "        # Updating parameters\r\n",
        "        optimizer.step()\r\n",
        "\r\n",
        "        iter += 1\r\n",
        "\r\n",
        "        if iter % 500 == 0:\r\n",
        "            # Calculate Accuracy         \r\n",
        "            correct = 0\r\n",
        "            total = 0\r\n",
        "            # Iterate through test dataset\r\n",
        "            for images, labels in test_loader:\r\n",
        "               \r\n",
        "                images = images.view(-1, 28*28).to(device)\r\n",
        "\r\n",
        "                # Forward pass only to get logits/output\r\n",
        "                logits, probas = model(images)\r\n",
        "\r\n",
        "                # Get predictions from the maximum value\r\n",
        "                _, predicted = torch.max(probas, 1)\r\n",
        "\r\n",
        "                # Total number of labels\r\n",
        "                total += labels.size(0)\r\n",
        "\r\n",
        "\r\n",
        "                # Total correct predictions\r\n",
        "                if torch.cuda.is_available():\r\n",
        "                    correct += (predicted.cpu() == labels.cpu()).sum() \r\n",
        "                else:\r\n",
        "                    correct += (predicted == labels).sum()\r\n",
        "\r\n",
        "            accuracy = 100 * correct.item() / total\r\n",
        "\r\n",
        "            # Print Loss\r\n",
        "            iteration_loss.append(loss.item())\r\n",
        "            print('Iteration: {}. Loss: {}. Accuracy: {}'.format(iter, loss.item(), accuracy))"
      ],
      "execution_count": null,
      "outputs": [
        {
          "output_type": "stream",
          "text": [
            "Iteration: 500. Loss: 0.6412940621376038. Accuracy: 59.22425032594524\n",
            "Iteration: 1000. Loss: 0.635563313961029. Accuracy: 60.104302477183836\n",
            "Iteration: 1500. Loss: 0.6762729287147522. Accuracy: 60.36505867014342\n",
            "Iteration: 2000. Loss: 0.6465674638748169. Accuracy: 60.039113428943935\n",
            "Iteration: 2500. Loss: 0.6638697385787964. Accuracy: 59.58279009126467\n",
            "Iteration: 3000. Loss: 0.673425018787384. Accuracy: 59.38722294654498\n",
            "Iteration: 3500. Loss: 0.6694508194923401. Accuracy: 60.104302477183836\n",
            "Iteration: 4000. Loss: 0.6662656664848328. Accuracy: 60.13689700130378\n",
            "Iteration: 4500. Loss: 0.684797465801239. Accuracy: 60.39765319426336\n",
            "Iteration: 5000. Loss: 0.6671454906463623. Accuracy: 60.59322033898305\n",
            "Iteration: 5500. Loss: 0.6660662293434143. Accuracy: 59.8109517601043\n"
          ],
          "name": "stdout"
        }
      ]
    },
    {
      "cell_type": "code",
      "metadata": {
        "id": "wLFC2nh_-89O",
        "outputId": "083238e3-4e14-47bf-f05c-85251d4dc5e2"
      },
      "source": [
        "#settng5\n",
        "#setting7\n",
        "'''\n",
        "TRAIN THE MODEL\n",
        "'''\n",
        "iteration_loss = []\n",
        "iter = 0\n",
        "for epoch in range(num_epochs):\n",
        "    for i, (images, labels) in enumerate(train_loader):\n",
        "\n",
        "        images = images.view(-1, 28*28).to(device)\n",
        "        labels = labels.to(device)\n",
        "\n",
        "        # Clear gradients w.r.t. parameters\n",
        "        optimizer.zero_grad()\n",
        "\n",
        "        # Forward pass to get output/logits\n",
        "        logits, probas = model(images) \n",
        "\n",
        "        # Calculate Loss: PyTorch implementation of CrossEntropyLoss works with logits, not probabilities\n",
        "        loss = F.cross_entropy(logits, labels)\n",
        "\n",
        "        # Getting gradients w.r.t. parameters\n",
        "        loss.backward()\n",
        "\n",
        "        # Updating parameters\n",
        "        optimizer.step()\n",
        "\n",
        "        iter += 1\n",
        "\n",
        "        if iter % 500 == 0:\n",
        "            # Calculate Accuracy         \n",
        "            correct = 0\n",
        "            total = 0\n",
        "            # Iterate through test dataset\n",
        "            for images, labels in test_loader:\n",
        "               \n",
        "                images = images.view(-1, 28*28).to(device)\n",
        "\n",
        "                # Forward pass only to get logits/output\n",
        "                logits, probas = model(images)\n",
        "\n",
        "                # Get predictions from the maximum value\n",
        "                _, predicted = torch.max(probas, 1)\n",
        "\n",
        "                # Total number of labels\n",
        "                total += labels.size(0)\n",
        "\n",
        "\n",
        "                # Total correct predictions\n",
        "                if torch.cuda.is_available():\n",
        "                    correct += (predicted.cpu() == labels.cpu()).sum() \n",
        "                else:\n",
        "                    correct += (predicted == labels).sum()\n",
        "\n",
        "            accuracy = 100 * correct.item() / total\n",
        "\n",
        "            # Print Loss\n",
        "            iteration_loss.append(loss.item())\n",
        "            print('Iteration: {}. Loss: {}. Accuracy: {}'.format(iter, loss.item(), accuracy))"
      ],
      "execution_count": null,
      "outputs": [
        {
          "output_type": "stream",
          "text": [
            "Iteration: 500. Loss: 0.6501194834709167. Accuracy: 59.74576271186441\n",
            "Iteration: 1000. Loss: 0.6641712188720703. Accuracy: 60.00651890482399\n",
            "Iteration: 1500. Loss: 0.6404795050621033. Accuracy: 58.18122555410691\n",
            "Iteration: 2000. Loss: 0.6588123440742493. Accuracy: 59.0612777053455\n",
            "Iteration: 2500. Loss: 0.6655935645103455. Accuracy: 60.13689700130378\n",
            "Iteration: 3000. Loss: 0.64925217628479. Accuracy: 60.202086049543674\n",
            "Iteration: 3500. Loss: 0.6430917978286743. Accuracy: 60.202086049543674\n"
          ],
          "name": "stdout"
        }
      ]
    },
    {
      "cell_type": "markdown",
      "metadata": {
        "id": "B0dqei4Jhldw"
      },
      "source": [
        "## Comparison Table"
      ]
    },
    {
      "cell_type": "markdown",
      "metadata": {
        "id": "R_3fOruQHKpi"
      },
      "source": [
        "**Ekush Dataset Comparision Table in Different Settings:-**\r\n",
        "\r\n",
        "| Settings        | Batch Size     | Iteration Number|Learing rate   |Epochs| Accuracy(%)|Dataset Length|\r\n",
        "| :------------- | :----------: | -----------: | ------------:|--------:|---------:|-------:|\r\n",
        "|  1 | 150   | 7000 |0.04   | 34 |51.85||\r\n",
        "|  2 | 400   | 3000 |0.0004  | 39 |57.36||\r\n",
        "|  3 | 200  | 4000  |0.003  | 26 |**58.01**|**30688**|\r\n",
        "|  4 | 256  | 6500  |0.0041  | 54 |**59.81**||\r\n",
        "|  5 | 256   | 5000 |0.00004   | 41|**60.20**||\r\n"
      ]
    },
    {
      "cell_type": "markdown",
      "metadata": {
        "id": "Aaut8VBDlnn3"
      },
      "source": [
        "**Loss Graphs**"
      ]
    },
    {
      "cell_type": "code",
      "metadata": {
        "id": "XYgfqh9O5Z-p",
        "colab": {
          "base_uri": "https://localhost:8080/",
          "height": 316
        },
        "outputId": "198658b6-af1c-4cde-fdc4-0bab1f95e9f5"
      },
      "source": [
        "#loss1\n",
        "#4\n",
        "import matplotlib\n",
        "import matplotlib.pyplot as plt\n",
        "\n",
        "print (iteration_loss)\n",
        "plt.plot(iteration_loss)\n",
        "plt.ylabel('Cross Entropy Loss')\n",
        "plt.xlabel('Iteration (in every 500)')\n",
        "plt.show()"
      ],
      "execution_count": null,
      "outputs": [
        {
          "output_type": "stream",
          "text": [
            "[1.499453067779541, 0.8832951784133911, 0.9597774147987366, 0.713193416595459, 1.0147916078567505, 0.8562780022621155, 0.8442702889442444, 1.6228183507919312, 0.9498113989830017, 0.9111449122428894, 1.2462478876113892, 1.1169241666793823]\n"
          ],
          "name": "stdout"
        },
        {
          "output_type": "display_data",
          "data": {
            "image/png": "[encoded data removed]",
            "text/plain": [
              "<Figure size 432x288 with 1 Axes>"
            ]
          },
          "metadata": {
            "tags": [],
            "needs_background": "light"
          }
        }
      ]
    },
    {
      "cell_type": "code",
      "metadata": {
        "colab": {
          "base_uri": "https://localhost:8080/",
          "height": 296
        },
        "id": "E_PEAeG98bex",
        "outputId": "5c5f345a-6cd1-4e60-d2a7-a8b4de554bb5"
      },
      "source": [
        "#loss2\r\n",
        "#1\r\n",
        "import matplotlib\r\n",
        "import matplotlib.pyplot as plt\r\n",
        "\r\n",
        "print (iteration_loss)\r\n",
        "plt.plot(iteration_loss)\r\n",
        "plt.ylabel('Cross Entropy Loss')\r\n",
        "plt.xlabel('Iteration (in every 500)')\r\n",
        "plt.show()"
      ],
      "execution_count": null,
      "outputs": [
        {
          "output_type": "stream",
          "text": [
            "[0.6708400249481201, 0.648911714553833, 0.660564661026001, 0.6440963745117188, 0.6662710309028625]\n"
          ],
          "name": "stdout"
        },
        {
          "output_type": "display_data",
          "data": {
            "image/png": "[encoded data removed]",
            "text/plain": [
              "<Figure size 432x288 with 1 Axes>"
            ]
          },
          "metadata": {
            "tags": [],
            "needs_background": "light"
          }
        }
      ]
    },
    {
      "cell_type": "code",
      "metadata": {
        "id": "z_wxOvz98brx",
        "colab": {
          "base_uri": "https://localhost:8080/",
          "height": 296
        },
        "outputId": "55c85cce-7216-451c-c61a-5a88c91d1320"
      },
      "source": [
        "#loss3\r\n",
        "#3\r\n",
        "import matplotlib\r\n",
        "import matplotlib.pyplot as plt\r\n",
        "\r\n",
        "print (iteration_loss)\r\n",
        "plt.plot(iteration_loss)\r\n",
        "plt.ylabel('Cross Entropy Loss')\r\n",
        "plt.xlabel('Iteration (in every 500)')\r\n",
        "plt.show()"
      ],
      "execution_count": null,
      "outputs": [
        {
          "output_type": "stream",
          "text": [
            "[0.681424617767334, 0.701723575592041, 0.6718512177467346, 0.6809971332550049, 0.6734543442726135, 0.6425724625587463, 0.6766534447669983]\n"
          ],
          "name": "stdout"
        },
        {
          "output_type": "display_data",
          "data": {
            "image/png": "[encoded data removed]",
            "text/plain": [
              "<Figure size 432x288 with 1 Axes>"
            ]
          },
          "metadata": {
            "tags": [],
            "needs_background": "light"
          }
        }
      ]
    },
    {
      "cell_type": "code",
      "metadata": {
        "colab": {
          "base_uri": "https://localhost:8080/",
          "height": 316
        },
        "id": "Gyjqx0Gd8DMo",
        "outputId": "2fc18f23-71f8-4897-ba31-456f8dad2ac2"
      },
      "source": [
        "#loss4\r\n",
        "#5\r\n",
        "import matplotlib\r\n",
        "import matplotlib.pyplot as plt\r\n",
        "\r\n",
        "print (iteration_loss)\r\n",
        "plt.plot(iteration_loss)\r\n",
        "plt.ylabel('Cross Entropy Loss')\r\n",
        "plt.xlabel('Iteration (in every 500)')\r\n",
        "plt.show()"
      ],
      "execution_count": null,
      "outputs": [
        {
          "output_type": "stream",
          "text": [
            "[0.6412940621376038, 0.635563313961029, 0.6762729287147522, 0.6465674638748169, 0.6638697385787964, 0.673425018787384, 0.6694508194923401, 0.6662656664848328, 0.684797465801239, 0.6671454906463623, 0.6660662293434143]\n"
          ],
          "name": "stdout"
        },
        {
          "output_type": "display_data",
          "data": {
            "image/png": "[encoded data removed]",
            "text/plain": [
              "<Figure size 432x288 with 1 Axes>"
            ]
          },
          "metadata": {
            "tags": [],
            "needs_background": "light"
          }
        }
      ]
    },
    {
      "cell_type": "code",
      "metadata": {
        "colab": {
          "base_uri": "https://localhost:8080/",
          "height": 296
        },
        "id": "VS3cli1lB4vT",
        "outputId": "84b17462-19db-4c11-ae2a-64f9acec800d"
      },
      "source": [
        "#loss5\r\n",
        "#7\r\n",
        "import matplotlib\r\n",
        "import matplotlib.pyplot as plt\r\n",
        "print (iteration_loss)\r\n",
        "plt.plot(iteration_loss)\r\n",
        "plt.ylabel('Cross Entropy Loss')\r\n",
        "plt.xlabel('Iteration (in every 500)')\r\n",
        "plt.show()"
      ],
      "execution_count": null,
      "outputs": [
        {
          "output_type": "stream",
          "text": [
            "[0.6501194834709167, 0.6641712188720703, 0.6404795050621033, 0.6588123440742493, 0.6655935645103455, 0.64925217628479, 0.6430917978286743]\n"
          ],
          "name": "stdout"
        },
        {
          "output_type": "display_data",
          "data": {
            "image/png": "[encoded data removed]",
            "text/plain": [
              "<Figure size 432x288 with 1 Axes>"
            ]
          },
          "metadata": {
            "tags": [],
            "needs_background": "light"
          }
        }
      ]
    },
    {
      "cell_type": "markdown",
      "metadata": {
        "id": "w1f2p0VSn2Al"
      },
      "source": [
        "**Accuracy Graphs**"
      ]
    },
    {
      "cell_type": "code",
      "metadata": {
        "colab": {
          "base_uri": "https://localhost:8080/",
          "height": 316
        },
        "id": "XTYlAokGZ2cU",
        "outputId": "959f2267-96dc-49ea-99e0-1ec6d3dc6c82"
      },
      "source": [
        "#acc1\r\n",
        "import matplotlib\r\n",
        "import matplotlib.pyplot as plt\r\n",
        "iteration_loss= [56.45371577574967,53.617992177314214,  55.50847457627118, 54.204693611473274, 53.0638852672751,53.8787483702738, 52.3142112125163, 54.628422425032596, 51.40156453715776, 53.84615384615385, 51.857887874837026]\r\n",
        "print (iteration_loss)\r\n",
        "plt.plot(iteration_loss,color=\"red\")\r\n",
        "plt.ylabel('Accuracy in percentage')\r\n",
        "plt.xlabel('Iteration (in every 500)')\r\n",
        "plt.show()"
      ],
      "execution_count": null,
      "outputs": [
        {
          "output_type": "stream",
          "text": [
            "[56.45371577574967, 53.617992177314214, 55.50847457627118, 54.204693611473274, 53.0638852672751, 53.8787483702738, 52.3142112125163, 54.628422425032596, 51.40156453715776, 53.84615384615385, 51.857887874837026]\n"
          ],
          "name": "stdout"
        },
        {
          "output_type": "display_data",
          "data": {
            "image/png": "[encoded data removed]",
            "text/plain": [
              "<Figure size 432x288 with 1 Axes>"
            ]
          },
          "metadata": {
            "tags": [],
            "needs_background": "light"
          }
        }
      ]
    },
    {
      "cell_type": "code",
      "metadata": {
        "colab": {
          "base_uri": "https://localhost:8080/",
          "height": 296
        },
        "id": "2GecBr41aXRH",
        "outputId": "592c6a0d-9a4e-4e5d-ab81-2f3e901862f8"
      },
      "source": [
        "#acc2\r\n",
        "import matplotlib\r\n",
        "import matplotlib.pyplot as plt\r\n",
        "iteration_loss= [ 57.65971316818774, 57.17079530638853, 58.14863102998696,58.57235984354629,57.366362451108216]\r\n",
        "print (iteration_loss)\r\n",
        "plt.plot(iteration_loss,color=\"red\")\r\n",
        "plt.ylabel('Accuracy in percentage')\r\n",
        "plt.xlabel('Iteration (in every 500)')\r\n",
        "plt.show()"
      ],
      "execution_count": null,
      "outputs": [
        {
          "output_type": "stream",
          "text": [
            "[57.65971316818774, 57.17079530638853, 58.14863102998696, 58.57235984354629, 57.366362451108216]\n"
          ],
          "name": "stdout"
        },
        {
          "output_type": "display_data",
          "data": {
            "image/png": "[encoded data removed]",
            "text/plain": [
              "<Figure size 432x288 with 1 Axes>"
            ]
          },
          "metadata": {
            "tags": [],
            "needs_background": "light"
          }
        }
      ]
    },
    {
      "cell_type": "code",
      "metadata": {
        "colab": {
          "base_uri": "https://localhost:8080/",
          "height": 299
        },
        "id": "R-03KHGubCKQ",
        "outputId": "da501728-9cb7-4b73-92c6-55d1e7333bbe"
      },
      "source": [
        "#acc3\r\n",
        "import matplotlib\r\n",
        "import matplotlib.pyplot as plt\r\n",
        "iteration_loss= [58.18122555410691, 57.72490221642764, 58.57235984354629,58.507170795306386,58.93089960886571,57.23598435462842,58.01825293350717]\r\n",
        "print (iteration_loss)\r\n",
        "plt.plot(iteration_loss,color=\"red\")\r\n",
        "plt.ylabel('Accuracy in percentage')\r\n",
        "plt.xlabel('Iteration (in every 500)')\r\n",
        "plt.show()"
      ],
      "execution_count": null,
      "outputs": [
        {
          "output_type": "stream",
          "text": [
            "[58.18122555410691, 57.72490221642764, 58.57235984354629, 58.507170795306386, 58.93089960886571, 57.23598435462842, 58.01825293350717]\n"
          ],
          "name": "stdout"
        },
        {
          "output_type": "display_data",
          "data": {
            "image/png": "[encoded data removed]",
            "text/plain": [
              "<Figure size 432x288 with 1 Axes>"
            ]
          },
          "metadata": {
            "tags": [],
            "needs_background": "light"
          }
        }
      ]
    },
    {
      "cell_type": "code",
      "metadata": {
        "colab": {
          "base_uri": "https://localhost:8080/",
          "height": 316
        },
        "id": "JIDRIpyFbjt-",
        "outputId": "c8e430a8-3da9-42fe-bd1a-8b2d251554b2"
      },
      "source": [
        "#acc4\r\n",
        "import matplotlib\r\n",
        "import matplotlib.pyplot as plt\r\n",
        "iteration_loss= [ 59.22425032594524,60.104302477183836,0.36505867014342, 60.039113428943935, 59.58279009126467,59.38722294654498,60.104302477183836, 60.13689700130378,60.39765319426336, 60.59322033898305,59.8109517601043]\r\n",
        "print (iteration_loss)\r\n",
        "plt.plot(iteration_loss,color=\"red\")\r\n",
        "plt.ylabel('Accuracy in percentage')\r\n",
        "plt.xlabel('Iteration (in every 500)')\r\n",
        "plt.show()"
      ],
      "execution_count": null,
      "outputs": [
        {
          "output_type": "stream",
          "text": [
            "[59.22425032594524, 60.104302477183836, 0.36505867014342, 60.039113428943935, 59.58279009126467, 59.38722294654498, 60.104302477183836, 60.13689700130378, 60.39765319426336, 60.59322033898305, 59.8109517601043]\n"
          ],
          "name": "stdout"
        },
        {
          "output_type": "display_data",
          "data": {
            "image/png": "[encoded data removed]",
            "text/plain": [
              "<Figure size 432x288 with 1 Axes>"
            ]
          },
          "metadata": {
            "tags": [],
            "needs_background": "light"
          }
        }
      ]
    },
    {
      "cell_type": "code",
      "metadata": {
        "colab": {
          "base_uri": "https://localhost:8080/",
          "height": 296
        },
        "id": "GvcbJ1x-cerp",
        "outputId": "7d902068-d162-4e44-c932-77e52c4336a9"
      },
      "source": [
        "#acc5\r\n",
        "import matplotlib\r\n",
        "import matplotlib.pyplot as plt\r\n",
        "iteration_loss= [ 59.74576271186441,60.00651890482399,58.18122555410691, 59.0612777053455,60.13689700130378,60.202086049543674]\r\n",
        "print (iteration_loss)\r\n",
        "plt.plot(iteration_loss,color=\"red\")\r\n",
        "plt.ylabel('Accuracy in percentage')\r\n",
        "plt.xlabel('Iteration (in every 500)')\r\n",
        "plt.show()"
      ],
      "execution_count": null,
      "outputs": [
        {
          "output_type": "stream",
          "text": [
            "[59.74576271186441, 60.00651890482399, 58.18122555410691, 59.0612777053455, 60.13689700130378, 60.202086049543674]\n"
          ],
          "name": "stdout"
        },
        {
          "output_type": "display_data",
          "data": {
            "image/png": "[encoded data removed]",
            "text/plain": [
              "<Figure size 432x288 with 1 Axes>"
            ]
          },
          "metadata": {
            "tags": [],
            "needs_background": "light"
          }
        }
      ]
    },
    {
      "cell_type": "markdown",
      "metadata": {
        "id": "WYXgSF3vxtFO"
      },
      "source": [
        "# A Comprehensive Study between Loss and Accuracy"
      ]
    },
    {
      "cell_type": "markdown",
      "metadata": {
        "id": "KqXlYHPjdz60"
      },
      "source": [
        "**Case 1**\r\n",
        "<div align=\"center\">\r\n",
        "<img src=\"https://drive.google.com/uc?id=1TNK5mrM8uDuOiyzpec2rjy7TV98VYI5x\" width=\"300\">\r\n",
        "<img src=\"https://drive.google.com/uc?id=1lQnStJrSuiTYtjkwCKbExGt_pjXG9YQx\"width=\"300\">\r\n",
        "<figcaption>figure 2: Accuracy and Loss in Case 1 </figcaption>"
      ]
    },
    {
      "cell_type": "markdown",
      "metadata": {
        "id": "cBaQU_CoiJk0"
      },
      "source": [
        "\r\n",
        "> At the Initial time the loss was higher and accuracy was lower. Then the loss started decreasing and the accuracy too increased linearly. But after 3000 iterations the loss suddenly goes up and so the accuracy goes up too. Thus at last the loss was decreasing and achieved a **51.85%** accuracy. As the datapoint was too complex  I was not able to achieve a linear loss function graph."
      ]
    },
    {
      "cell_type": "markdown",
      "metadata": {
        "id": "2EQZo_bJeUiH"
      },
      "source": [
        "**Case 2**\r\n",
        "<div align=\"center\">\r\n",
        "<img src=\"https://drive.google.com/uc?id=1psgSqomHa-J1oAGoSMhd0VsOt19xeL4t\" width=\"300\">\r\n",
        "<img src=\"https://drive.google.com/uc?id=1w3Tt60Lo0WfJ_hmhX1a_EHINSlhEfvyu\"width=\"300\">\r\n",
        "<figcaption>figure 3: Accuracy and Loss in Case 2 </figcaption>"
      ]
    },
    {
      "cell_type": "markdown",
      "metadata": {
        "id": "-VNG0iUvinzC"
      },
      "source": [
        "\r\n",
        "> At the Initial time the loss was a little lower and accuracy was too. Then after more iterations, the loss started decreasing almost linearly and the accuracy too decreased linearly.  Thus at last the loss was decreasing and achieved a **57.36%** accuracy. As the datapoint was too complex  I was not able to achieve a linear loss function graph."
      ]
    },
    {
      "cell_type": "markdown",
      "metadata": {
        "id": "x-4uhoc-eVIA"
      },
      "source": [
        "**Case 3**\r\n",
        "<div align=\"center\">\r\n",
        "<img src=\"https://drive.google.com/uc?id=1l2Fdbau7J-3QQxFSirlgAAuGrFOoasFB\" width=\"300\">\r\n",
        "<img src=\"https://drive.google.com/uc?id=1YFNdrijpjqwnm7ALnAF-nE7XdQRx62BJ\"width=\"300\">\r\n",
        "<figcaption>figure 4: Accuracy and Loss in Case 3 </figcaption>"
      ]
    },
    {
      "cell_type": "markdown",
      "metadata": {
        "id": "-F7kCMdVjNLG"
      },
      "source": [
        "\r\n",
        "> At the Initial time the loss was higher and accuracy was lower. Then after 2000 iterations, the loss started decreasing. Thus at last the loss was increasing and achieved a **58.01%** accuracy. As the datapoint was too complex I was not able to achieve a linear loss function graph.\r\n",
        "\r\n"
      ]
    },
    {
      "cell_type": "markdown",
      "metadata": {
        "id": "IUIdednpeVdK"
      },
      "source": [
        "**Case 4**\r\n",
        "<div align=\"center\">\r\n",
        "<img src=\"https://drive.google.com/uc?id=1hQNjvYINC0pzT1xXOpr0jGkFflE12BX8\" width=\"300\">\r\n",
        "<img src=\"https://drive.google.com/uc?id=1yhk5nDDK_PE7b_Ss4tID_Z_x4KZdKXyv\"width=\"300\">\r\n",
        "<figcaption>figure 5: Accuracy and Loss in Case 4 </figcaption>"
      ]
    },
    {
      "cell_type": "markdown",
      "metadata": {
        "id": "qzE5LYzjkFdu"
      },
      "source": [
        "> At the Initial time the loss was lower and accuracy was higher. Then iterations the loss started increasing and the accuracy too decreased linearly. But after 1500 iterations the accuracy suddenly becomes nearly constant whatever the loss was. Thus achieved a **59.81%** accuracy. As the datapoint was too complex  I was not able to achieve a linear loss function graph."
      ]
    },
    {
      "cell_type": "markdown",
      "metadata": {
        "id": "gzIeO51CeWBa"
      },
      "source": [
        "**Case 5**\r\n",
        "<div align=\"center\">\r\n",
        "<img src=\"https://drive.google.com/uc?id=1DqBl0fBsp0LlfLUF0_LV6UR3VHTiEsaj\" width=\"300\">\r\n",
        "<img src=\"https://drive.google.com/uc?id=1Gwl_ArGh7H8Ra4tFxTNhCALItpbFus6X\"width=\"300\">\r\n",
        "<figcaption>figure 6: Accuracy and Loss in Case 5 </figcaption>"
      ]
    },
    {
      "cell_type": "markdown",
      "metadata": {
        "id": "yXaZycwklBT-"
      },
      "source": [
        "\r\n",
        "> At the Initial time the loss was lower. Then the loss started increasing and the accuracy too increased a little. But after 500 iterations the loss suddenly goes down and so the accuracy too. Thus at last the loss was decreasing and achieved a **60.20%** accuracy. As the datapoint was too complex I was not able to achieve a linear loss function graph.\r\n",
        "\r\n"
      ]
    },
    {
      "cell_type": "markdown",
      "metadata": {
        "id": "yb5Ko0vfFoGl"
      },
      "source": [
        "#Best Model"
      ]
    },
    {
      "cell_type": "markdown",
      "metadata": {
        "id": "15k0fORHFtrY"
      },
      "source": [
        "**Hyper Parameter Values**\r\n",
        "\r\n",
        "$Batch$ $size = 256 $\r\n",
        "\r\n",
        "$Iteration =5000$\r\n",
        "\r\n",
        "$learning$ $Rate = 0.00004$\r\n",
        "\r\n",
        "\r\n"
      ]
    },
    {
      "cell_type": "markdown",
      "metadata": {
        "id": "elH7wBmvGjmb"
      },
      "source": [
        "$Accuracy($%$) = 60.20$"
      ]
    },
    {
      "cell_type": "markdown",
      "metadata": {
        "id": "zBw6UFajL06w"
      },
      "source": [
        "**Model Saving Code**"
      ]
    },
    {
      "cell_type": "code",
      "metadata": {
        "id": "1q-BCJUATFQY"
      },
      "source": [
        "save_model = True\r\n",
        "\r\n",
        "if save_model is True:\r\n",
        "    # Saves only parameters\r\n",
        "    # wights & biases\r\n",
        "    torch.save(model.state_dict(), PATH + 'ekush6.pkl')"
      ],
      "execution_count": null,
      "outputs": []
    },
    {
      "cell_type": "markdown",
      "metadata": {
        "id": "LWPajNfSL8RM"
      },
      "source": [
        "**Model Loading Code**"
      ]
    },
    {
      "cell_type": "code",
      "metadata": {
        "id": "ih0ydaQ_TM_8"
      },
      "source": [
        "load_model = True\r\n",
        "\r\n",
        "if load_model is True:\r\n",
        "    model.load_state_dict(torch.load(PATH + 'ekush6.pkl'))\r\n",
        "    print('Trained Model Loaded')"
      ],
      "execution_count": null,
      "outputs": []
    },
    {
      "cell_type": "markdown",
      "metadata": {
        "id": "aSPGqhDoMGLJ"
      },
      "source": [
        "**Load Image from Test Loader**"
      ]
    },
    {
      "cell_type": "code",
      "metadata": {
        "id": "ILM3bTT85Z-p",
        "colab": {
          "base_uri": "https://localhost:8080/",
          "height": 193
        },
        "outputId": "7cfb5edc-f92d-4824-d339-8f652e642374"
      },
      "source": [
        "for images, labels in test_loader:\n",
        "    break\n",
        "    \n",
        "fig, ax = plt.subplots(1, 5)\n",
        "for i in range(5):\n",
        "    ax[i].imshow(images[i].view(28, 28), cmap=matplotlib.cm.binary)\n",
        "   \n",
        "\n",
        "plt.show()\n",
        "\n",
        "for i in range(5):\n",
        "    \n",
        "    print(labels[i].numpy())\n",
        "\n",
        "#plt.show()"
      ],
      "execution_count": null,
      "outputs": [
        {
          "output_type": "display_data",
          "data": {
            "image/png": "[encoded data removed]",
            "text/plain": [
              "<Figure size 432x288 with 5 Axes>"
            ]
          },
          "metadata": {
            "tags": [],
            "needs_background": "light"
          }
        },
        {
          "output_type": "stream",
          "text": [
            "0\n",
            "0\n",
            "0\n",
            "0\n",
            "0\n"
          ],
          "name": "stdout"
        }
      ]
    },
    {
      "cell_type": "markdown",
      "metadata": {
        "id": "GfhqENh9MP5O"
      },
      "source": [
        "**Counting Correctly Predicted Results**"
      ]
    },
    {
      "cell_type": "code",
      "metadata": {
        "id": "6wXqhv_U5Z-p",
        "colab": {
          "base_uri": "https://localhost:8080/"
        },
        "outputId": "a347d1ff-bfd1-4c6b-c8d0-4e9a3f2e0fab"
      },
      "source": [
        "_, predictions = model.forward(images[:5].view(-1, 28*28).to(device))\n",
        "predictions = torch.argmax(predictions, dim=1)\n",
        "print('Predicted labels', predictions.cpu().numpy())"
      ],
      "execution_count": null,
      "outputs": [
        {
          "output_type": "stream",
          "text": [
            "Predicted labels [1 0 1 0 0]\n"
          ],
          "name": "stdout"
        }
      ]
    },
    {
      "cell_type": "markdown",
      "metadata": {
        "id": "CoddbUEiMlOL"
      },
      "source": [
        "# Drive Links for Train Models\r\n",
        "\r\n",
        "> **Setting 1:** [https://drive.google.com/file/d/1-8_SVbq9c6qOaxulklQmC2rnYakq7sdV/view?usp=sharing](https://)\r\n",
        "\r\n",
        "> **Setting 2:** [https://drive.google.com/file/d/1_QN9TK_J1oB1EGH0ozVFI4FJ96BToXa2/view?usp=sharing](https://)\r\n",
        "\r\n",
        "> **Setting 3:** [https://drive.google.com/file/d/1-6ZooDlGYhNQDSXpeYkeWIHeHx7QTxqB/view?usp=sharingg](https://)\r\n",
        "\r\n",
        "> **Setting 4:** [https://drive.google.com/file/d/1-B7z7jkEiPuGeW7wF5SMbumCqfjCMmCh/view?usp=sharing](https://)\r\n",
        "\r\n",
        "> **Setting 5:** [https://drive.google.com/file/d/1sj8lS-7eCbhE10nln_yhxEu2uDG5ESTO/view?usp=sharing](https://)\r\n",
        "\r\n",
        "\r\n",
        "\r\n",
        "\r\n",
        "\r\n",
        "\r\n",
        "\r\n",
        "\r\n",
        "\r\n"
      ]
    }
  ]
}